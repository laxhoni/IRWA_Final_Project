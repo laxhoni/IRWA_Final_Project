{
 "cells": [
  {
   "cell_type": "markdown",
   "id": "13ec4a4d",
   "metadata": {},
   "source": [
    "# Part 1: Text Processing and Exploratory Data Analysis"
   ]
  },
  {
   "cell_type": "markdown",
   "id": "75e094a5",
   "metadata": {},
   "source": [
    "Author/s: <font color=\"blue\">Jhonatan Barcos Gambaro | Daniel Alexander Yearwood</font>\n",
    "\n",
    "E-mail: <font color=\"blue\">jhonatan.barcos01@estudiant.upf.edu | danielalexander.yearwood01@estudiant.upf.edu </font>\n",
    "\n",
    "Date: <font color=\"blue\">24/10/2025</font>"
   ]
  },
  {
   "cell_type": "code",
   "execution_count": 25,
   "id": "bb471297",
   "metadata": {},
   "outputs": [],
   "source": [
    "# Import libraries\n",
    "import numpy as np\n",
    "import pandas as pd\n",
    "import matplotlib.pyplot as plt\n",
    "import re\n",
    "\n",
    "import nltk\n",
    "from nltk.corpus import stopwords\n",
    "from nltk.tokenize import word_tokenize\n",
    "\n",
    "\n",
    "from collections import Counter\n"
   ]
  },
  {
   "cell_type": "code",
   "execution_count": null,
   "id": "c514f85c",
   "metadata": {},
   "outputs": [
    {
     "name": "stderr",
     "output_type": "stream",
     "text": [
      "[nltk_data] Downloading package punkt_tab to\n",
      "[nltk_data]     C:\\Users\\daniy\\AppData\\Roaming\\nltk_data...\n",
      "[nltk_data]   Unzipping tokenizers\\punkt_tab.zip.\n"
     ]
    },
    {
     "data": {
      "text/plain": [
       "True"
      ]
     },
     "execution_count": 12,
     "metadata": {},
     "output_type": "execute_result"
    }
   ],
   "source": [
    "# Download nltk resources\n",
    "#nltk.download('punkt')\n",
    "#nltk.download('stopwords')\n",
    "#nltk.download('punkt_tab')"
   ]
  },
  {
   "cell_type": "code",
   "execution_count": 26,
   "id": "0df73b5d",
   "metadata": {},
   "outputs": [
    {
     "data": {
      "text/html": [
       "<div>\n",
       "<style scoped>\n",
       "    .dataframe tbody tr th:only-of-type {\n",
       "        vertical-align: middle;\n",
       "    }\n",
       "\n",
       "    .dataframe tbody tr th {\n",
       "        vertical-align: top;\n",
       "    }\n",
       "\n",
       "    .dataframe thead th {\n",
       "        text-align: right;\n",
       "    }\n",
       "</style>\n",
       "<table border=\"1\" class=\"dataframe\">\n",
       "  <thead>\n",
       "    <tr style=\"text-align: right;\">\n",
       "      <th></th>\n",
       "      <th>_id</th>\n",
       "      <th>actual_price</th>\n",
       "      <th>average_rating</th>\n",
       "      <th>brand</th>\n",
       "      <th>category</th>\n",
       "      <th>crawled_at</th>\n",
       "      <th>description</th>\n",
       "      <th>discount</th>\n",
       "      <th>images</th>\n",
       "      <th>out_of_stock</th>\n",
       "      <th>pid</th>\n",
       "      <th>product_details</th>\n",
       "      <th>seller</th>\n",
       "      <th>selling_price</th>\n",
       "      <th>sub_category</th>\n",
       "      <th>title</th>\n",
       "      <th>url</th>\n",
       "    </tr>\n",
       "  </thead>\n",
       "  <tbody>\n",
       "    <tr>\n",
       "      <th>0</th>\n",
       "      <td>fa8e22d6-c0b6-5229-bb9e-ad52eda39a0a</td>\n",
       "      <td>2,999</td>\n",
       "      <td>3.9</td>\n",
       "      <td>York</td>\n",
       "      <td>Clothing and Accessories</td>\n",
       "      <td>2021-02-10 20:11:51</td>\n",
       "      <td>Yorker trackpants made from 100% rich combed c...</td>\n",
       "      <td>69% off</td>\n",
       "      <td>[https://rukminim1.flixcart.com/image/128/128/...</td>\n",
       "      <td>False</td>\n",
       "      <td>TKPFCZ9EA7H5FYZH</td>\n",
       "      <td>[{'Style Code': '1005COMBO2'}, {'Closure': 'El...</td>\n",
       "      <td>Shyam Enterprises</td>\n",
       "      <td>921</td>\n",
       "      <td>Bottomwear</td>\n",
       "      <td>Solid Women Multicolor Track Pants</td>\n",
       "      <td>https://www.flipkart.com/yorker-solid-men-mult...</td>\n",
       "    </tr>\n",
       "    <tr>\n",
       "      <th>1</th>\n",
       "      <td>893e6980-f2a0-531f-b056-34dd63fe912c</td>\n",
       "      <td>1,499</td>\n",
       "      <td>3.9</td>\n",
       "      <td>York</td>\n",
       "      <td>Clothing and Accessories</td>\n",
       "      <td>2021-02-10 20:11:52</td>\n",
       "      <td>Yorker trackpants made from 100% rich combed c...</td>\n",
       "      <td>66% off</td>\n",
       "      <td>[https://rukminim1.flixcart.com/image/128/128/...</td>\n",
       "      <td>False</td>\n",
       "      <td>TKPFCZ9EJZV2UVRZ</td>\n",
       "      <td>[{'Style Code': '1005BLUE'}, {'Closure': 'Draw...</td>\n",
       "      <td>Shyam Enterprises</td>\n",
       "      <td>499</td>\n",
       "      <td>Bottomwear</td>\n",
       "      <td>Solid Men Blue Track Pants</td>\n",
       "      <td>https://www.flipkart.com/yorker-solid-men-blue...</td>\n",
       "    </tr>\n",
       "    <tr>\n",
       "      <th>2</th>\n",
       "      <td>eb4c8eab-8206-59d0-bcd1-a724d96bf74f</td>\n",
       "      <td>2,999</td>\n",
       "      <td>3.9</td>\n",
       "      <td>York</td>\n",
       "      <td>Clothing and Accessories</td>\n",
       "      <td>2021-02-10 20:11:52</td>\n",
       "      <td>Yorker trackpants made from 100% rich combed c...</td>\n",
       "      <td>68% off</td>\n",
       "      <td>[https://rukminim1.flixcart.com/image/128/128/...</td>\n",
       "      <td>False</td>\n",
       "      <td>TKPFCZ9EHFCY5Z4Y</td>\n",
       "      <td>[{'Style Code': '1005COMBO4'}, {'Closure': 'El...</td>\n",
       "      <td>Shyam Enterprises</td>\n",
       "      <td>931</td>\n",
       "      <td>Bottomwear</td>\n",
       "      <td>Solid Men Multicolor Track Pants</td>\n",
       "      <td>https://www.flipkart.com/yorker-solid-men-mult...</td>\n",
       "    </tr>\n",
       "    <tr>\n",
       "      <th>3</th>\n",
       "      <td>3f3f97bb-5faf-57df-a9ff-1af24e2b1045</td>\n",
       "      <td>2,999</td>\n",
       "      <td>3.9</td>\n",
       "      <td>York</td>\n",
       "      <td>Clothing and Accessories</td>\n",
       "      <td>2021-02-10 20:11:53</td>\n",
       "      <td>Yorker trackpants made from 100% rich combed c...</td>\n",
       "      <td>69% off</td>\n",
       "      <td>[https://rukminim1.flixcart.com/image/128/128/...</td>\n",
       "      <td>False</td>\n",
       "      <td>TKPFCZ9ESZZ7YWEF</td>\n",
       "      <td>[{'Style Code': '1005COMBO3'}, {'Closure': 'El...</td>\n",
       "      <td>Shyam Enterprises</td>\n",
       "      <td>911</td>\n",
       "      <td>Bottomwear</td>\n",
       "      <td>Solid Women Multicolor Track Pants</td>\n",
       "      <td>https://www.flipkart.com/yorker-solid-men-mult...</td>\n",
       "    </tr>\n",
       "    <tr>\n",
       "      <th>4</th>\n",
       "      <td>750caa3d-6264-53ca-8ce1-94118a1d8951</td>\n",
       "      <td>2,999</td>\n",
       "      <td>3.9</td>\n",
       "      <td>York</td>\n",
       "      <td>Clothing and Accessories</td>\n",
       "      <td>2021-02-10 20:11:53</td>\n",
       "      <td>Yorker trackpants made from 100% rich combed c...</td>\n",
       "      <td>68% off</td>\n",
       "      <td>[https://rukminim1.flixcart.com/image/128/128/...</td>\n",
       "      <td>False</td>\n",
       "      <td>TKPFCZ9EVXKBSUD7</td>\n",
       "      <td>[{'Style Code': '1005COMBO1'}, {'Closure': 'Dr...</td>\n",
       "      <td>Shyam Enterprises</td>\n",
       "      <td>943</td>\n",
       "      <td>Bottomwear</td>\n",
       "      <td>Solid Women Brown, Grey Track Pants</td>\n",
       "      <td>https://www.flipkart.com/yorker-solid-men-brow...</td>\n",
       "    </tr>\n",
       "  </tbody>\n",
       "</table>\n",
       "</div>"
      ],
      "text/plain": [
       "                                    _id actual_price average_rating brand  \\\n",
       "0  fa8e22d6-c0b6-5229-bb9e-ad52eda39a0a        2,999            3.9  York   \n",
       "1  893e6980-f2a0-531f-b056-34dd63fe912c        1,499            3.9  York   \n",
       "2  eb4c8eab-8206-59d0-bcd1-a724d96bf74f        2,999            3.9  York   \n",
       "3  3f3f97bb-5faf-57df-a9ff-1af24e2b1045        2,999            3.9  York   \n",
       "4  750caa3d-6264-53ca-8ce1-94118a1d8951        2,999            3.9  York   \n",
       "\n",
       "                   category          crawled_at  \\\n",
       "0  Clothing and Accessories 2021-02-10 20:11:51   \n",
       "1  Clothing and Accessories 2021-02-10 20:11:52   \n",
       "2  Clothing and Accessories 2021-02-10 20:11:52   \n",
       "3  Clothing and Accessories 2021-02-10 20:11:53   \n",
       "4  Clothing and Accessories 2021-02-10 20:11:53   \n",
       "\n",
       "                                         description discount  \\\n",
       "0  Yorker trackpants made from 100% rich combed c...  69% off   \n",
       "1  Yorker trackpants made from 100% rich combed c...  66% off   \n",
       "2  Yorker trackpants made from 100% rich combed c...  68% off   \n",
       "3  Yorker trackpants made from 100% rich combed c...  69% off   \n",
       "4  Yorker trackpants made from 100% rich combed c...  68% off   \n",
       "\n",
       "                                              images  out_of_stock  \\\n",
       "0  [https://rukminim1.flixcart.com/image/128/128/...         False   \n",
       "1  [https://rukminim1.flixcart.com/image/128/128/...         False   \n",
       "2  [https://rukminim1.flixcart.com/image/128/128/...         False   \n",
       "3  [https://rukminim1.flixcart.com/image/128/128/...         False   \n",
       "4  [https://rukminim1.flixcart.com/image/128/128/...         False   \n",
       "\n",
       "                pid                                    product_details  \\\n",
       "0  TKPFCZ9EA7H5FYZH  [{'Style Code': '1005COMBO2'}, {'Closure': 'El...   \n",
       "1  TKPFCZ9EJZV2UVRZ  [{'Style Code': '1005BLUE'}, {'Closure': 'Draw...   \n",
       "2  TKPFCZ9EHFCY5Z4Y  [{'Style Code': '1005COMBO4'}, {'Closure': 'El...   \n",
       "3  TKPFCZ9ESZZ7YWEF  [{'Style Code': '1005COMBO3'}, {'Closure': 'El...   \n",
       "4  TKPFCZ9EVXKBSUD7  [{'Style Code': '1005COMBO1'}, {'Closure': 'Dr...   \n",
       "\n",
       "              seller selling_price sub_category  \\\n",
       "0  Shyam Enterprises           921   Bottomwear   \n",
       "1  Shyam Enterprises           499   Bottomwear   \n",
       "2  Shyam Enterprises           931   Bottomwear   \n",
       "3  Shyam Enterprises           911   Bottomwear   \n",
       "4  Shyam Enterprises           943   Bottomwear   \n",
       "\n",
       "                                 title  \\\n",
       "0   Solid Women Multicolor Track Pants   \n",
       "1           Solid Men Blue Track Pants   \n",
       "2     Solid Men Multicolor Track Pants   \n",
       "3   Solid Women Multicolor Track Pants   \n",
       "4  Solid Women Brown, Grey Track Pants   \n",
       "\n",
       "                                                 url  \n",
       "0  https://www.flipkart.com/yorker-solid-men-mult...  \n",
       "1  https://www.flipkart.com/yorker-solid-men-blue...  \n",
       "2  https://www.flipkart.com/yorker-solid-men-mult...  \n",
       "3  https://www.flipkart.com/yorker-solid-men-mult...  \n",
       "4  https://www.flipkart.com/yorker-solid-men-brow...  "
      ]
     },
     "metadata": {},
     "output_type": "display_data"
    }
   ],
   "source": [
    "# Upload dataset\n",
    "data_path = '../../data/fashion_products_dataset.json'\n",
    "products = pd.read_json(data_path)\n",
    "\n",
    "# Display head of the dataset\n",
    "display(products.head(5))"
   ]
  },
  {
   "cell_type": "markdown",
   "id": "55a8c718",
   "metadata": {},
   "source": [
    "## 1.1. Pre-Processing text"
   ]
  },
  {
   "cell_type": "markdown",
   "id": "5cd653d0",
   "metadata": {},
   "source": [
    "Pre-process of the documents. In particular, for the text fields (title,\n",
    "description)"
   ]
  },
  {
   "cell_type": "code",
   "execution_count": 27,
   "id": "13485123",
   "metadata": {},
   "outputs": [],
   "source": [
    "# Define clean_text function to preprocess documents:\n",
    "# 1. Removing stop words with nltk\n",
    "# 2. Tokenization with nltk\n",
    "# 3. Removing punctuation marks\n",
    "# 4. Stemming with nltk's PorterStemmer\n",
    "stop_words = set(stopwords.words(\"english\"))\n",
    "stemmer = nltk.PorterStemmer()\n",
    "\n",
    "def clean_text(text):\n",
    "    word_tokens = word_tokenize(text.lower())\n",
    "    textos_limpios = ' '.join([word for word in word_tokens if word not in stop_words and word.isalnum()])\n",
    "    textos_limpios = ' '.join([stemmer.stem(word) for word in word_tokenize(textos_limpios)])\n",
    "    return textos_limpios"
   ]
  },
  {
   "cell_type": "code",
   "execution_count": 28,
   "id": "ccdecc4b",
   "metadata": {},
   "outputs": [],
   "source": [
    "def clean_text_without_stemming(text):\n",
    "    word_tokens = word_tokenize(text.lower())\n",
    "    clean_text = ' '.join([word for word in word_tokens if word not in stop_words and word.isalnum()])\n",
    "    return clean_text"
   ]
  },
  {
   "cell_type": "code",
   "execution_count": null,
   "id": "43b7adee",
   "metadata": {},
   "outputs": [],
   "source": [
    "# Apply clean_text function to the columns 'title' and 'description' of the products dataset\n",
    "products_cleaned = products.copy()\n",
    "products_cleaned['title'] = products_cleaned['title'].apply(clean_text)\n",
    "products_cleaned['description'] = products_cleaned['description'].apply(clean_text)"
   ]
  },
  {
   "cell_type": "code",
   "execution_count": null,
   "id": "7a66c05b",
   "metadata": {},
   "outputs": [
    {
     "name": "stdout",
     "output_type": "stream",
     "text": [
      "Title: Solid Women Multicolor Track Pants\n",
      "Cleaned Title: solid women multicolor track pant\n",
      "Description: Yorker trackpants made from 100% rich combed cotton giving it a rich look.Designed for Comfort,Skin friendly fabric,itch-free waistband & great for all year round use Proudly made in India\n",
      "Cleaned Description: yorker trackpant made 100 rich comb cotton give rich comfort skin friendli fabric waistband great year round use proudli made india \n",
      "\n",
      "Title: Solid Men Blue Track Pants\n",
      "Cleaned Title: solid men blue track pant\n",
      "Description: Yorker trackpants made from 100% rich combed cotton giving it a rich look.Designed for Comfort,Skin friendly fabric,itch-free waistband & great for all year round use Proudly made in India\n",
      "Cleaned Description: yorker trackpant made 100 rich comb cotton give rich comfort skin friendli fabric waistband great year round use proudli made india \n",
      "\n"
     ]
    }
   ],
   "source": [
    "# Print title, cleaned_title, description, cleaned_description of the first 2 products\n",
    "for i in range(2):\n",
    "    print(\"Title:\", products['title'].iloc[i])\n",
    "    print(\"Cleaned Title:\", products_cleaned['title'].iloc[i])\n",
    "    print(\"Description:\", products['description'].iloc[i])\n",
    "    print(\"Cleaned Description:\", products_cleaned['description'].iloc[i], \"\\n\")"
   ]
  },
  {
   "cell_type": "markdown",
   "id": "a7e897d0",
   "metadata": {},
   "source": [
    "## 1.2. Handle of category, sub_category, brand, product_details, and seller during pre-processing. \n"
   ]
  },
  {
   "cell_type": "code",
   "execution_count": 33,
   "id": "ba235fd6",
   "metadata": {},
   "outputs": [
    {
     "name": "stdout",
     "output_type": "stream",
     "text": [
      "Displaying first 3 products of the columns to analyze:\n"
     ]
    },
    {
     "data": {
      "text/html": [
       "<div>\n",
       "<style scoped>\n",
       "    .dataframe tbody tr th:only-of-type {\n",
       "        vertical-align: middle;\n",
       "    }\n",
       "\n",
       "    .dataframe tbody tr th {\n",
       "        vertical-align: top;\n",
       "    }\n",
       "\n",
       "    .dataframe thead th {\n",
       "        text-align: right;\n",
       "    }\n",
       "</style>\n",
       "<table border=\"1\" class=\"dataframe\">\n",
       "  <thead>\n",
       "    <tr style=\"text-align: right;\">\n",
       "      <th></th>\n",
       "      <th>category</th>\n",
       "      <th>sub_category</th>\n",
       "      <th>brand</th>\n",
       "      <th>product_details</th>\n",
       "      <th>seller</th>\n",
       "    </tr>\n",
       "  </thead>\n",
       "  <tbody>\n",
       "    <tr>\n",
       "      <th>0</th>\n",
       "      <td>Clothing and Accessories</td>\n",
       "      <td>Bottomwear</td>\n",
       "      <td>York</td>\n",
       "      <td>[{'Style Code': '1005COMBO2'}, {'Closure': 'El...</td>\n",
       "      <td>Shyam Enterprises</td>\n",
       "    </tr>\n",
       "    <tr>\n",
       "      <th>1</th>\n",
       "      <td>Clothing and Accessories</td>\n",
       "      <td>Bottomwear</td>\n",
       "      <td>York</td>\n",
       "      <td>[{'Style Code': '1005BLUE'}, {'Closure': 'Draw...</td>\n",
       "      <td>Shyam Enterprises</td>\n",
       "    </tr>\n",
       "    <tr>\n",
       "      <th>2</th>\n",
       "      <td>Clothing and Accessories</td>\n",
       "      <td>Bottomwear</td>\n",
       "      <td>York</td>\n",
       "      <td>[{'Style Code': '1005COMBO4'}, {'Closure': 'El...</td>\n",
       "      <td>Shyam Enterprises</td>\n",
       "    </tr>\n",
       "  </tbody>\n",
       "</table>\n",
       "</div>"
      ],
      "text/plain": [
       "                   category sub_category brand  \\\n",
       "0  Clothing and Accessories   Bottomwear  York   \n",
       "1  Clothing and Accessories   Bottomwear  York   \n",
       "2  Clothing and Accessories   Bottomwear  York   \n",
       "\n",
       "                                     product_details             seller  \n",
       "0  [{'Style Code': '1005COMBO2'}, {'Closure': 'El...  Shyam Enterprises  \n",
       "1  [{'Style Code': '1005BLUE'}, {'Closure': 'Draw...  Shyam Enterprises  \n",
       "2  [{'Style Code': '1005COMBO4'}, {'Closure': 'El...  Shyam Enterprises  "
      ]
     },
     "metadata": {},
     "output_type": "display_data"
    },
    {
     "name": "stdout",
     "output_type": "stream",
     "text": [
      "\n",
      "Displaying unique values in each column to analyze:\n"
     ]
    },
    {
     "data": {
      "text/plain": [
       "category          4\n",
       "sub_category     24\n",
       "brand           325\n",
       "seller          535\n",
       "dtype: int64"
      ]
     },
     "metadata": {},
     "output_type": "display_data"
    },
    {
     "name": "stdout",
     "output_type": "stream",
     "text": [
      "\n",
      "Displaying values in product_details for the first 10 products:\n",
      "\n",
      "Product 1 product_details: [{'Style Code': '1005COMBO2'}, {'Closure': 'Elastic'}, {'Pockets': 'Side Pockets'}, {'Fabric': 'Cotton Blend'}, {'Pattern': 'Solid'}, {'Color': 'Multicolor'}]\n",
      "Product 2 product_details: [{'Style Code': '1005BLUE'}, {'Closure': 'Drawstring, Elastic'}, {'Pockets': 'Side Pockets'}, {'Fabric': 'Cotton Blend'}, {'Pattern': 'Solid'}, {'Color': 'Blue'}]\n",
      "Product 3 product_details: [{'Style Code': '1005COMBO4'}, {'Closure': 'Elastic'}, {'Pockets': 'Side Pockets'}, {'Fabric': 'Cotton Blend'}, {'Pattern': 'Solid'}, {'Color': 'Multicolor'}]\n",
      "Product 4 product_details: [{'Style Code': '1005COMBO3'}, {'Closure': 'Elastic'}, {'Pockets': 'Side Pockets'}, {'Fabric': 'Cotton Blend'}, {'Pattern': 'Solid'}, {'Color': 'Multicolor'}]\n",
      "Product 5 product_details: [{'Style Code': '1005COMBO1'}, {'Closure': 'Drawstring, Elastic'}, {'Pockets': 'Side Pockets'}, {'Fabric': 'Cotton Blend'}, {'Pattern': 'Solid'}, {'Color': 'Brown, Grey'}]\n",
      "Product 6 product_details: [{'Style Code': '1005COMBO12'}, {'Closure': 'Elastic'}, {'Pockets': 'Side Pockets'}, {'Fabric': 'Cotton Blend'}, {'Pattern': 'Solid'}, {'Color': 'Multicolor'}]\n",
      "Product 7 product_details: [{'Style Code': '1005NAVI'}, {'Closure': 'Elastic'}, {'Pockets': 'Side Pockets'}, {'Fabric': 'Cotton Blend'}, {'Pattern': 'Solid'}, {'Color': 'Dark Blue'}]\n",
      "Product 8 product_details: [{'Style Code': '1005DSKIN'}, {'Closure': 'Elastic'}, {'Pockets': 'Side Pockets'}, {'Fabric': 'Cotton Blend'}, {'Pattern': 'Solid'}, {'Color': 'Beige'}]\n",
      "Product 9 product_details: [{'Style Code': '1005BLACK'}, {'Closure': 'Drawstring, Elastic'}, {'Pockets': 'Side Pockets'}, {'Fabric': 'Cotton Blend'}, {'Pattern': 'Solid'}, {'Color': 'Black'}]\n",
      "Product 10 product_details: [{'Style Code': '1005MLGREY'}, {'Closure': 'Elastic'}, {'Pockets': 'Side Pockets'}, {'Fabric': 'Cotton Blend'}, {'Pattern': 'Solid'}, {'Color': 'Grey'}]\n"
     ]
    }
   ],
   "source": [
    "# First we'll analyze the columns category, sub_category, brand, product_details, and seller to decide how to handle them during pre-processing\n",
    "columns_to_analyze = ['category', 'sub_category', 'brand', 'product_details', 'seller']\n",
    "columns_to_analyze_reduced = ['category', 'sub_category', 'brand', 'seller'] # Remove product_details due to is a list\n",
    "\n",
    "# Display first 3 products of the columns to analyze\n",
    "print(\"Displaying first 3 products of the columns to analyze:\")\n",
    "display(products[columns_to_analyze].head(3))\n",
    "\n",
    "# Analyze the unique values in each column to analyze\n",
    "print(\"\\nDisplaying unique values in each column to analyze:\")\n",
    "display(products[columns_to_analyze_reduced].nunique())\n",
    "\n",
    "# Analyze the values of product_details list of the first 10 products\n",
    "print(\"\\nDisplaying values in product_details for the first 10 products:\\n\")\n",
    "for i in range(10):\n",
    "    print(\"Product\", i+1, \"product_details:\", products['product_details'].iloc[i])"
   ]
  },
  {
   "cell_type": "markdown",
   "id": "d947562c",
   "metadata": {},
   "source": [
    "One we analyze the columns to pre-process, to take the best decision we'll study the validation_labels.csv, which will play a pivotal role in the project’s\n",
    "second phase."
   ]
  },
  {
   "cell_type": "markdown",
   "id": "373a166a",
   "metadata": {},
   "source": [
    "```python\n",
    "For your reference: \n",
    "query_1: women full sleeve sweatshirt cotton,\n",
    "query_2: men slim jeans blue\n"
   ]
  },
  {
   "cell_type": "code",
   "execution_count": null,
   "id": "f8c5f0ad",
   "metadata": {},
   "outputs": [],
   "source": [
    "explanation = \"\"\"\n",
    "Recommendation — hybrid approach\n",
    "- Index category, sub_category, brand and seller as separate fields (fielded index / facets).\n",
    "- Parse product_details (list of dicts) into structured attribute fields (e.g. color, fabric, pattern) and also produce a flattened details_text.\n",
    "- Additionally create a merged `all_text` field (title + description + flattened product_details + brand) for full‑text retrieval and ranking.\n",
    "\n",
    "Justification\n",
    "- Distinctiveness: category/sub_category give coarse topical signals; brand and seller are metadata/facets that strongly affect filtering and precision; product_details contain fine-grained attributes (color, fabric, fit) that are crucial for exact-match and attribute queries.\n",
    "- Retrieval effectiveness improves when you can both do free-text matching (high recall) on an aggregated field and apply fielded boosting/filters (high precision) on structured fields.\n",
    "\n",
    "Pros & cons\n",
    "- Merged single field only\n",
    "    - Pros: simpler index; higher recall for free-text queries.\n",
    "    - Cons: loses attribute semantics (cannot boost by brand or filter by color easily); ranking cannot exploit field importance.\n",
    "- Separate fields only\n",
    "    - Pros: precise filtering, faceted navigation, field-specific boosting, better precision.\n",
    "    - Cons: may reduce recall for queries where words appear across different fields; more index complexity.\n",
    "- Hybrid (recommended)\n",
    "    - Pros: best of both — use `all_text` for recall and phrase matching, use structured fields and facets for precision and business rules (boost brand, filter by category, exact match on attributes).\n",
    "    - Cons: larger index size, slightly more complex ingestion (parse product_details), need to tune field weights and analyzers.\n",
    "\n",
    "Implementation notes\n",
    "- Normalize values: lowercase, canonicalize brand/seller names, map synonyms (e.g., \"tee\" → \"t-shirt\").\n",
    "- product_details: extract key/value pairs; index keys as fields and also index \"key:value\" tokens (e.g., `color_blue`) to preserve semantics and support exact attribute queries.\n",
    "- Field analyzers: use keyword (non-tokenized) for brand and category IDs, use text analyzer (with stemming/stopword removal) for title/description/details_text.\n",
    "- Use field boosting at query time (e.g., title>brand>details>all_text) and provide faceted filters on category/sub_category/brand/seller/attributes.\n",
    "\n",
    "Short summary\n",
    "- Parse product_details into structured attributes, keep category/sub_category/brand/seller as separate, and also maintain a merged `all_text` for full-text ranking. Tune analyzers and field weights for best balance of recall and precision.\n",
    "\"\"\"\n",
    "\n",
    "display(Markdown(explanation))"
   ]
  },
  {
   "cell_type": "markdown",
   "id": "a1b0f34f",
   "metadata": {},
   "source": [
    "**Should they be merged into a single text field, indexed as separate fields in the inverted index or any other alternative?**"
   ]
  },
  {
   "cell_type": "markdown",
   "id": "dd97e648",
   "metadata": {},
   "source": [
    "**Decision:**  \n",
    "We apply a **hybrid approach** to handle these fields.  \n",
    "Each field is **indexed separately** to preserve its distinct meaning, and a combined **`all_text` field** is created (including title, description, brand, category, sub_category, seller, and product_details) for full-text retrieval and ranking."
   ]
  },
  {
   "cell_type": "markdown",
   "id": "277562a4",
   "metadata": {},
   "source": [
    "**Justify your choice, considering how their distinctiveness may affect retrieval effectiveness.**"
   ]
  },
  {
   "cell_type": "markdown",
   "id": "2ae7a4d0",
   "metadata": {},
   "source": [
    "**Justification:**  \n",
    "These fields provide different types of information.  \n",
    "For example, `title` and `description` describe the product in natural language and should be processed as normal text.  \n",
    "On the other hand, `brand`, `category`, and `seller` represent structured metadata that identify key characteristics of a product.  \n",
    "`product_details` adds specific attributes like color or fabric, which can also be flattened into text to support attribute-based queries.\n",
    "\n",
    "If we merged all of them into a single text field, we would lose the semantic distinction between textual content and metadata, which could reduce precision.  \n",
    "Keeping them completely separate, however, could lower recall, since relevant terms might appear across multiple fields.  \n",
    "By combining both ideas—maintaining individual fields and also building an aggregated one—we balance **precision** and **recall** (through the combined text representation).\n"
   ]
  },
  {
   "cell_type": "markdown",
   "id": "a58793b4",
   "metadata": {},
   "source": [
    "**What are pros and cons of each approach?**"
   ]
  },
  {
   "cell_type": "markdown",
   "id": "a52c1772",
   "metadata": {},
   "source": [
    "| Approach | Description | Pros | Cons |\n",
    "|-----------|--------------|------|------|\n",
    "| **Single merged field** | All fields concatenated into one text | Simple implementation; high recall | Loses field meaning; cannot boost or filter by specific attributes |\n",
    "| **Separate fields only** | Each field indexed independently | Enables accurate filtering and field weighting | Lower recall if query terms are distributed across fields |\n",
    "| **Hybrid (recommended)** | Index fields separately and also create a merged `all_text` field | Balances recall and precision; supports both text search and structured filters | Slightly more complex indexing and larger index size |\n"
   ]
  },
  {
   "cell_type": "code",
   "execution_count": 34,
   "id": "41b5f40d",
   "metadata": {},
   "outputs": [],
   "source": [
    "# Hybrid approach implementation (fixed flattening for product_details structured as list of single-key dicts)\n",
    "\n",
    "# Define auxiliar functions \n",
    "# 1. preprocess_full_text: to preprocess text for full-text field (All Text)\n",
    "def preprocess_full_text(text):\n",
    "    if not isinstance(text, str):\n",
    "        return [] \n",
    "    \n",
    "    word_tokens = nltk.word_tokenize(text.lower())\n",
    "    \n",
    "    tokens_nets = [\n",
    "        stemmer.stem(word) \n",
    "        for word in word_tokens \n",
    "        if word not in stop_words and word.isalnum() \n",
    "    ]\n",
    "    \n",
    "    return tokens_nets\n",
    "\n",
    "# 2. preprocess_keyword: to preprocess text for keyword fields (Fielded Index)\n",
    "def preprocess_keyword(text):\n",
    "    if not isinstance(text, str):\n",
    "        return None\n",
    "    \n",
    "    text = text.lower().strip()\n",
    "    if not text:\n",
    "        return None\n",
    "        \n",
    "    text = re.sub(r'\\s+', '_', text) \n",
    "    text_net = ''.join(char for char in text if char.isalnum() or char == '_')\n",
    "\n",
    "    return text_net\n",
    "\n",
    "# 3. process_product_details: to process product_details list of dicts into text for All Text and keyword fields for Fielded Index\n",
    "def process_product_details(details_list):\n",
    "    text_for_all_text_list = []\n",
    "    keyword_fields_dict = {}\n",
    "    if not isinstance(details_list, list):\n",
    "        return '', keyword_fields_dict\n",
    "    for item_dict in details_list:\n",
    "        if isinstance(item_dict, dict):\n",
    "            for key, value in item_dict.items():\n",
    "                if isinstance(value, str):\n",
    "                    # 1. Recall fields per al Canal 1 (All Text)\n",
    "                    text_for_all_text_list.append(key)\n",
    "                    text_for_all_text_list.append(value)\n",
    "                    \n",
    "                    # 2. Precision fields per al Canal 2 (Fielded Index)\n",
    "                    kw_key_name = f\"detail_{preprocess_keyword(key)}\"\n",
    "                    kw_value = preprocess_keyword(value) \n",
    "                    if kw_key_name and kw_value:\n",
    "                        keyword_fields_dict[kw_key_name] = kw_value\n",
    "    \n",
    "    return ' '.join(text_for_all_text_list), keyword_fields_dict"
   ]
  },
  {
   "cell_type": "code",
   "execution_count": 35,
   "id": "d2dab0f0",
   "metadata": {},
   "outputs": [],
   "source": [
    "# Hybrid architecture implementation\n",
    "products_cleaned['brand_kw'] = products['brand'].apply(preprocess_keyword)\n",
    "products_cleaned['category_kw'] = products['category'].apply(preprocess_keyword)\n",
    "products_cleaned['sub_category_kw'] = products['sub_category'].apply(preprocess_keyword)\n",
    "products_cleaned['seller_kw'] = products['seller'].apply(preprocess_keyword)\n",
    "\n",
    "temp_df = products['product_details'].apply(lambda x: pd.Series(process_product_details(x)))\n",
    "temp_df.columns = ['details_text_chunk', 'details_kw_dict']\n",
    "details_kw_df = temp_df['details_kw_dict'].apply(pd.Series)\n",
    "products_cleaned = pd.concat([products_cleaned, details_kw_df], axis=1)\n",
    "\n",
    "# Apply preprocess_full_text to create 'all_text' field\n",
    "title_cleaned_tokens = products['title'].apply(preprocess_full_text)\n",
    "description_cleaned_tokens = products['description'].apply(preprocess_full_text)\n",
    "brand_cleaned_tokens = products['brand'].apply(preprocess_full_text)\n",
    "category_cleaned_tokens = products['category'].apply(preprocess_full_text)\n",
    "sub_category_cleaned_tokens = products['sub_category'].apply(preprocess_full_text)\n",
    "seller_cleaned_tokens = products['seller'].apply(preprocess_full_text)\n",
    "details_cleaned_tokens = temp_df['details_text_chunk'].apply(preprocess_full_text)\n",
    "\n",
    "# Combine all tokens into 'all_text' field\n",
    "products_cleaned['all_text'] = (\n",
    "    title_cleaned_tokens +\n",
    "    description_cleaned_tokens +\n",
    "    brand_cleaned_tokens +\n",
    "    category_cleaned_tokens +\n",
    "    sub_category_cleaned_tokens +\n",
    "    seller_cleaned_tokens +\n",
    "    details_cleaned_tokens\n",
    ")"
   ]
  },
  {
   "cell_type": "code",
   "execution_count": 36,
   "id": "c2ac7d84",
   "metadata": {},
   "outputs": [
    {
     "name": "stdout",
     "output_type": "stream",
     "text": [
      "\n",
      "--- Verificació del Resultat Final ---\n"
     ]
    },
    {
     "data": {
      "text/html": [
       "<div>\n",
       "<style scoped>\n",
       "    .dataframe tbody tr th:only-of-type {\n",
       "        vertical-align: middle;\n",
       "    }\n",
       "\n",
       "    .dataframe tbody tr th {\n",
       "        vertical-align: top;\n",
       "    }\n",
       "\n",
       "    .dataframe thead th {\n",
       "        text-align: right;\n",
       "    }\n",
       "</style>\n",
       "<table border=\"1\" class=\"dataframe\">\n",
       "  <thead>\n",
       "    <tr style=\"text-align: right;\">\n",
       "      <th></th>\n",
       "      <th>pid</th>\n",
       "      <th>all_text</th>\n",
       "      <th>brand_kw</th>\n",
       "      <th>category_kw</th>\n",
       "      <th>detail_color</th>\n",
       "      <th>detail_fabric</th>\n",
       "    </tr>\n",
       "  </thead>\n",
       "  <tbody>\n",
       "    <tr>\n",
       "      <th>0</th>\n",
       "      <td>TKPFCZ9EA7H5FYZH</td>\n",
       "      <td>[solid, women, multicolor, track, pant, yorker...</td>\n",
       "      <td>york</td>\n",
       "      <td>clothing_and_accessories</td>\n",
       "      <td>multicolor</td>\n",
       "      <td>cotton_blend</td>\n",
       "    </tr>\n",
       "    <tr>\n",
       "      <th>1</th>\n",
       "      <td>TKPFCZ9EJZV2UVRZ</td>\n",
       "      <td>[solid, men, blue, track, pant, yorker, trackp...</td>\n",
       "      <td>york</td>\n",
       "      <td>clothing_and_accessories</td>\n",
       "      <td>blue</td>\n",
       "      <td>cotton_blend</td>\n",
       "    </tr>\n",
       "    <tr>\n",
       "      <th>2</th>\n",
       "      <td>TKPFCZ9EHFCY5Z4Y</td>\n",
       "      <td>[solid, men, multicolor, track, pant, yorker, ...</td>\n",
       "      <td>york</td>\n",
       "      <td>clothing_and_accessories</td>\n",
       "      <td>multicolor</td>\n",
       "      <td>cotton_blend</td>\n",
       "    </tr>\n",
       "    <tr>\n",
       "      <th>3</th>\n",
       "      <td>TKPFCZ9ESZZ7YWEF</td>\n",
       "      <td>[solid, women, multicolor, track, pant, yorker...</td>\n",
       "      <td>york</td>\n",
       "      <td>clothing_and_accessories</td>\n",
       "      <td>multicolor</td>\n",
       "      <td>cotton_blend</td>\n",
       "    </tr>\n",
       "    <tr>\n",
       "      <th>4</th>\n",
       "      <td>TKPFCZ9EVXKBSUD7</td>\n",
       "      <td>[solid, women, brown, grey, track, pant, yorke...</td>\n",
       "      <td>york</td>\n",
       "      <td>clothing_and_accessories</td>\n",
       "      <td>brown_grey</td>\n",
       "      <td>cotton_blend</td>\n",
       "    </tr>\n",
       "  </tbody>\n",
       "</table>\n",
       "</div>"
      ],
      "text/plain": [
       "                pid                                           all_text  \\\n",
       "0  TKPFCZ9EA7H5FYZH  [solid, women, multicolor, track, pant, yorker...   \n",
       "1  TKPFCZ9EJZV2UVRZ  [solid, men, blue, track, pant, yorker, trackp...   \n",
       "2  TKPFCZ9EHFCY5Z4Y  [solid, men, multicolor, track, pant, yorker, ...   \n",
       "3  TKPFCZ9ESZZ7YWEF  [solid, women, multicolor, track, pant, yorker...   \n",
       "4  TKPFCZ9EVXKBSUD7  [solid, women, brown, grey, track, pant, yorke...   \n",
       "\n",
       "  brand_kw               category_kw detail_color detail_fabric  \n",
       "0     york  clothing_and_accessories   multicolor  cotton_blend  \n",
       "1     york  clothing_and_accessories         blue  cotton_blend  \n",
       "2     york  clothing_and_accessories   multicolor  cotton_blend  \n",
       "3     york  clothing_and_accessories   multicolor  cotton_blend  \n",
       "4     york  clothing_and_accessories   brown_grey  cotton_blend  "
      ]
     },
     "metadata": {},
     "output_type": "display_data"
    }
   ],
   "source": [
    "# Test final verification\n",
    "print(\"\\n--- Verificació del Resultat Final ---\")\n",
    "cols_to_show = ['pid', 'all_text', 'brand_kw', 'category_kw']\n",
    "if 'detail_color' in products_cleaned.columns:\n",
    "    cols_to_show.append('detail_color')\n",
    "if 'detail_fabric' in products_cleaned.columns:\n",
    "    cols_to_show.append('detail_fabric')\n",
    "\n",
    "display(products_cleaned[cols_to_show].head())"
   ]
  },
  {
   "cell_type": "markdown",
   "id": "5d9bd35c",
   "metadata": {},
   "source": [
    "## 1.3 Handling of Numeric and Boolean Fields"
   ]
  },
  {
   "cell_type": "markdown",
   "id": "cfa3824b",
   "metadata": {},
   "source": [
    "**How should the fields `out_of_stock`, `selling_price`, `discount`, `actual_price`, and `average_rating` be handled during pre-processing? Should they be indexed as textual terms?**\n"
   ]
  },
  {
   "cell_type": "markdown",
   "id": "f7aebc20",
   "metadata": {},
   "source": [
    "These fields are **structured numeric or boolean attributes**, not natural language text.  \n",
    "They should **not be indexed as textual terms**, since tokenizing numbers or boolean values would not provide meaningful information for retrieval.\n",
    "\n",
    "Instead, they should be **converted and normalized** to numerical or boolean types for later use in ranking, sorting, or filtering:\n",
    "- `out_of_stock` → boolean (`True`/`False`)  \n",
    "- `selling_price`, `actual_price` → float values  \n",
    "- `discount` → percentage value  \n",
    "- `average_rating` → numeric rating (float)\n",
    "\n",
    "This ensures the search engine can use these features to refine results (for example, filtering available items or boosting products with higher ratings) without polluting the text index.\n"
   ]
  },
  {
   "cell_type": "code",
   "execution_count": 37,
   "id": "22de55f8",
   "metadata": {},
   "outputs": [
    {
     "data": {
      "text/html": [
       "<div>\n",
       "<style scoped>\n",
       "    .dataframe tbody tr th:only-of-type {\n",
       "        vertical-align: middle;\n",
       "    }\n",
       "\n",
       "    .dataframe tbody tr th {\n",
       "        vertical-align: top;\n",
       "    }\n",
       "\n",
       "    .dataframe thead th {\n",
       "        text-align: right;\n",
       "    }\n",
       "</style>\n",
       "<table border=\"1\" class=\"dataframe\">\n",
       "  <thead>\n",
       "    <tr style=\"text-align: right;\">\n",
       "      <th></th>\n",
       "      <th>pid</th>\n",
       "      <th>out_of_stock</th>\n",
       "      <th>selling_price</th>\n",
       "      <th>actual_price</th>\n",
       "      <th>discount</th>\n",
       "      <th>average_rating</th>\n",
       "    </tr>\n",
       "  </thead>\n",
       "  <tbody>\n",
       "    <tr>\n",
       "      <th>0</th>\n",
       "      <td>TKPFCZ9EA7H5FYZH</td>\n",
       "      <td>False</td>\n",
       "      <td>921.0</td>\n",
       "      <td>2999.0</td>\n",
       "      <td>69.0</td>\n",
       "      <td>3.9</td>\n",
       "    </tr>\n",
       "    <tr>\n",
       "      <th>1</th>\n",
       "      <td>TKPFCZ9EJZV2UVRZ</td>\n",
       "      <td>False</td>\n",
       "      <td>499.0</td>\n",
       "      <td>1499.0</td>\n",
       "      <td>66.0</td>\n",
       "      <td>3.9</td>\n",
       "    </tr>\n",
       "    <tr>\n",
       "      <th>2</th>\n",
       "      <td>TKPFCZ9EHFCY5Z4Y</td>\n",
       "      <td>False</td>\n",
       "      <td>931.0</td>\n",
       "      <td>2999.0</td>\n",
       "      <td>68.0</td>\n",
       "      <td>3.9</td>\n",
       "    </tr>\n",
       "    <tr>\n",
       "      <th>3</th>\n",
       "      <td>TKPFCZ9ESZZ7YWEF</td>\n",
       "      <td>False</td>\n",
       "      <td>911.0</td>\n",
       "      <td>2999.0</td>\n",
       "      <td>69.0</td>\n",
       "      <td>3.9</td>\n",
       "    </tr>\n",
       "    <tr>\n",
       "      <th>4</th>\n",
       "      <td>TKPFCZ9EVXKBSUD7</td>\n",
       "      <td>False</td>\n",
       "      <td>943.0</td>\n",
       "      <td>2999.0</td>\n",
       "      <td>68.0</td>\n",
       "      <td>3.9</td>\n",
       "    </tr>\n",
       "  </tbody>\n",
       "</table>\n",
       "</div>"
      ],
      "text/plain": [
       "                pid  out_of_stock  selling_price  actual_price  discount  \\\n",
       "0  TKPFCZ9EA7H5FYZH         False          921.0        2999.0      69.0   \n",
       "1  TKPFCZ9EJZV2UVRZ         False          499.0        1499.0      66.0   \n",
       "2  TKPFCZ9EHFCY5Z4Y         False          931.0        2999.0      68.0   \n",
       "3  TKPFCZ9ESZZ7YWEF         False          911.0        2999.0      69.0   \n",
       "4  TKPFCZ9EVXKBSUD7         False          943.0        2999.0      68.0   \n",
       "\n",
       "   average_rating  \n",
       "0             3.9  \n",
       "1             3.9  \n",
       "2             3.9  \n",
       "3             3.9  \n",
       "4             3.9  "
      ]
     },
     "execution_count": 37,
     "metadata": {},
     "output_type": "execute_result"
    }
   ],
   "source": [
    "products_cleaned = products_cleaned.copy()\n",
    "\n",
    "# 1️Convert boolean\n",
    "products_cleaned['out_of_stock'] = products_cleaned['out_of_stock'].astype(bool)\n",
    "\n",
    "# Helper function to clean numeric fields\n",
    "def clean_numeric(value):\n",
    "    if isinstance(value, str):\n",
    "        value = re.sub(r'[^\\d.,]', '', value).replace(',', '')\n",
    "    try:\n",
    "        return float(value)\n",
    "    except:\n",
    "        return np.nan\n",
    "\n",
    "# Apply cleaning to numeric columns\n",
    "for col in ['selling_price', 'actual_price', 'discount', 'average_rating']:\n",
    "    products_cleaned[col] = products_cleaned[col].apply(clean_numeric)\n",
    "\n",
    "# Ensure discount is in valid range\n",
    "products_cleaned['discount'] = products_cleaned['discount'].clip(0, 100)\n",
    "\n",
    "#Display result to verify\n",
    "products_cleaned[['pid', 'out_of_stock', 'selling_price', 'actual_price', 'discount', 'average_rating']].head()"
   ]
  },
  {
   "cell_type": "markdown",
   "id": "309ae6e8",
   "metadata": {},
   "source": [
    "# PART 2: Exploratory Data Analysis"
   ]
  },
  {
   "cell_type": "markdown",
   "id": "770c5bbd",
   "metadata": {},
   "source": [
    "### 2.1 Dataset overview\n",
    "\n",
    "**What is the size of the dataset and are there missing values in key fields?**\n",
    "\n",
    "We inspect the schema and null counts to assess data quality before plotting.\n",
    "\n"
   ]
  },
  {
   "cell_type": "code",
   "execution_count": 38,
   "id": "aa39ac20",
   "metadata": {},
   "outputs": [
    {
     "name": "stdout",
     "output_type": "stream",
     "text": [
      "<class 'pandas.core.frame.DataFrame'>\n",
      "RangeIndex: 28080 entries, 0 to 28079\n",
      "Columns: 145 entries, _id to all_text\n",
      "dtypes: bool(1), datetime64[ns](1), float64(4), object(139)\n",
      "memory usage: 30.9+ MB\n"
     ]
    },
    {
     "data": {
      "text/plain": [
       "average_rating    2261\n",
       "discount           855\n",
       "actual_price       777\n",
       "selling_price        2\n",
       "brand                0\n",
       "out_of_stock         0\n",
       "seller               0\n",
       "sub_category         0\n",
       "category             0\n",
       "dtype: int64"
      ]
     },
     "execution_count": 38,
     "metadata": {},
     "output_type": "execute_result"
    }
   ],
   "source": [
    "products_cleaned.info()\n",
    "products_cleaned[[\n",
    "    \"pid\",\"title\",\"brand\",\"category\",\"sub_category\",\"seller\",\n",
    "    \"out_of_stock\",\"selling_price\",\"actual_price\",\"discount\",\"average_rating\"\n",
    "]].sample(5, random_state=42)\n",
    "\n",
    "nulls = products_cleaned[[\n",
    "    \"brand\",\"category\",\"sub_category\",\"seller\",\n",
    "    \"out_of_stock\",\"selling_price\",\"actual_price\",\"discount\",\"average_rating\"\n",
    "]].isnull().sum().sort_values(ascending=False)\n",
    "nulls\n"
   ]
  },
  {
   "cell_type": "markdown",
   "id": "1cea5f22",
   "metadata": {},
   "source": [
    "### 2.2 Text length and vocabulary size\n",
    "\n",
    "**How long are titles/descriptions and what is the vocabulary size after preprocessing?**\n",
    "\n",
    "We count tokens per field and estimate the global vocabulary (unique tokens) to understand textual richness.\n"
   ]
  },
  {
   "cell_type": "code",
   "execution_count": null,
   "id": "41c3c796",
   "metadata": {},
   "outputs": [
    {
     "data": {
      "text/html": [
       "<div>\n",
       "<style scoped>\n",
       "    .dataframe tbody tr th:only-of-type {\n",
       "        vertical-align: middle;\n",
       "    }\n",
       "\n",
       "    .dataframe tbody tr th {\n",
       "        vertical-align: top;\n",
       "    }\n",
       "\n",
       "    .dataframe thead th {\n",
       "        text-align: right;\n",
       "    }\n",
       "</style>\n",
       "<table border=\"1\" class=\"dataframe\">\n",
       "  <thead>\n",
       "    <tr style=\"text-align: right;\">\n",
       "      <th></th>\n",
       "      <th>title_len</th>\n",
       "      <th>desc_len</th>\n",
       "    </tr>\n",
       "  </thead>\n",
       "  <tbody>\n",
       "    <tr>\n",
       "      <th>count</th>\n",
       "      <td>28080.000000</td>\n",
       "      <td>28080.000000</td>\n",
       "    </tr>\n",
       "    <tr>\n",
       "      <th>mean</th>\n",
       "      <td>5.757051</td>\n",
       "      <td>17.676389</td>\n",
       "    </tr>\n",
       "    <tr>\n",
       "      <th>std</th>\n",
       "      <td>1.854674</td>\n",
       "      <td>25.006123</td>\n",
       "    </tr>\n",
       "    <tr>\n",
       "      <th>min</th>\n",
       "      <td>1.000000</td>\n",
       "      <td>0.000000</td>\n",
       "    </tr>\n",
       "    <tr>\n",
       "      <th>25%</th>\n",
       "      <td>5.000000</td>\n",
       "      <td>0.000000</td>\n",
       "    </tr>\n",
       "    <tr>\n",
       "      <th>50%</th>\n",
       "      <td>5.000000</td>\n",
       "      <td>9.000000</td>\n",
       "    </tr>\n",
       "    <tr>\n",
       "      <th>75%</th>\n",
       "      <td>7.000000</td>\n",
       "      <td>27.000000</td>\n",
       "    </tr>\n",
       "    <tr>\n",
       "      <th>max</th>\n",
       "      <td>30.000000</td>\n",
       "      <td>472.000000</td>\n",
       "    </tr>\n",
       "  </tbody>\n",
       "</table>\n",
       "</div>"
      ],
      "text/plain": [
       "          title_len      desc_len\n",
       "count  28080.000000  28080.000000\n",
       "mean       5.757051     17.676389\n",
       "std        1.854674     25.006123\n",
       "min        1.000000      0.000000\n",
       "25%        5.000000      0.000000\n",
       "50%        5.000000      9.000000\n",
       "75%        7.000000     27.000000\n",
       "max       30.000000    472.000000"
      ]
     },
     "execution_count": 40,
     "metadata": {},
     "output_type": "execute_result"
    }
   ],
   "source": [
    "# Count tokens in title and cleaned description\n",
    "def count_tokens(text):\n",
    "    if isinstance(text, str):\n",
    "        return len(text.split())\n",
    "    return 0\n",
    "\n",
    "products_cleaned[\"title_len\"] = products_cleaned[\"title\"].apply(count_tokens)\n",
    "products_cleaned[\"desc_len\"]  = products_cleaned[\"description\"].apply(count_tokens)\n",
    "\n",
    "# Show simple stats\n",
    "products_cleaned[[\"title_len\",\"desc_len\"]].describe()\n"
   ]
  },
  {
   "cell_type": "code",
   "execution_count": 41,
   "id": "3a1462b4",
   "metadata": {},
   "outputs": [
    {
     "data": {
      "image/png": "[encoded data removed]",
      "text/plain": [
       "<Figure size 640x480 with 1 Axes>"
      ]
     },
     "metadata": {},
     "output_type": "display_data"
    },
    {
     "data": {
      "image/png": "[encoded data removed]",
      "text/plain": [
       "<Figure size 640x480 with 1 Axes>"
      ]
     },
     "metadata": {},
     "output_type": "display_data"
    }
   ],
   "source": [
    "# Plot histograms for text lengths\n",
    "\n",
    "for col in [\"title_len\",\"desc_len\"]:\n",
    "    plt.figure()\n",
    "    products_cleaned[col].dropna().hist(bins=30, color=\"lightblue\", edgecolor=\"black\")\n",
    "    plt.title(f\"Distribution of {col}\")\n",
    "    plt.xlabel(col)\n",
    "    plt.ylabel(\"Count\")\n",
    "    plt.show()\n"
   ]
  },
  {
   "cell_type": "code",
   "execution_count": null,
   "id": "e6257281",
   "metadata": {},
   "outputs": [
    {
     "name": "stdout",
     "output_type": "stream",
     "text": [
      "Vocabulary size: 4555\n"
     ]
    },
    {
     "data": {
      "text/plain": [
       "cotton     9874\n",
       "wear       9250\n",
       "comfort    8652\n",
       "shirt      7493\n",
       "look       6171\n",
       "casual     5867\n",
       "fit        5595\n",
       "made       5486\n",
       "fabric     5406\n",
       "print      4865\n",
       "women      4395\n",
       "design     4179\n",
       "sleev      4007\n",
       "qualiti    4002\n",
       "men        3705\n",
       "day        3463\n",
       "wash       3293\n",
       "style      3241\n",
       "make       3233\n",
       "100        3153\n",
       "feel       3131\n",
       "perfect    2953\n",
       "neck       2848\n",
       "great      2731\n",
       "pair       2717\n",
       "dtype: int64"
      ]
     },
     "execution_count": 42,
     "metadata": {},
     "output_type": "execute_result"
    }
   ],
   "source": [
    "# Vocabulary size and most frequent words (based on cleaned description)\n",
    "\n",
    "all_words = \" \".join(products_cleaned[\"description\"].astype(str)).split()\n",
    "vocab_counter = Counter(all_words)\n",
    "\n",
    "print(f\"Vocabulary size: {len(vocab_counter)}\")\n",
    "pd.Series(vocab_counter).sort_values(ascending=False).head(25)\n"
   ]
  },
  {
   "cell_type": "markdown",
   "id": "3ad4af14",
   "metadata": {},
   "source": [
    "### 2.3 Price, Discount, and Rating Analysis\n",
    "\n",
    "**How are prices, discounts, and ratings distributed, and which products stand out by their values?**\n",
    "\n",
    "We explore the numerical attributes (`selling_price`, `actual_price`, `discount`, `average_rating`) to understand their range, detect outliers, and identify top-rated or most discounted products.\n"
   ]
  },
  {
   "cell_type": "code",
   "execution_count": null,
   "id": "a9cc7010",
   "metadata": {},
   "outputs": [
    {
     "data": {
      "text/html": [
       "<div>\n",
       "<style scoped>\n",
       "    .dataframe tbody tr th:only-of-type {\n",
       "        vertical-align: middle;\n",
       "    }\n",
       "\n",
       "    .dataframe tbody tr th {\n",
       "        vertical-align: top;\n",
       "    }\n",
       "\n",
       "    .dataframe thead th {\n",
       "        text-align: right;\n",
       "    }\n",
       "</style>\n",
       "<table border=\"1\" class=\"dataframe\">\n",
       "  <thead>\n",
       "    <tr style=\"text-align: right;\">\n",
       "      <th></th>\n",
       "      <th>selling_price</th>\n",
       "      <th>actual_price</th>\n",
       "      <th>discount</th>\n",
       "      <th>average_rating</th>\n",
       "    </tr>\n",
       "  </thead>\n",
       "  <tbody>\n",
       "    <tr>\n",
       "      <th>count</th>\n",
       "      <td>28078.000000</td>\n",
       "      <td>27303.000000</td>\n",
       "      <td>27225.000000</td>\n",
       "      <td>25819.000000</td>\n",
       "    </tr>\n",
       "    <tr>\n",
       "      <th>mean</th>\n",
       "      <td>705.635088</td>\n",
       "      <td>1455.528110</td>\n",
       "      <td>50.256896</td>\n",
       "      <td>3.627724</td>\n",
       "    </tr>\n",
       "    <tr>\n",
       "      <th>std</th>\n",
       "      <td>549.681489</td>\n",
       "      <td>939.977456</td>\n",
       "      <td>16.887287</td>\n",
       "      <td>0.663429</td>\n",
       "    </tr>\n",
       "    <tr>\n",
       "      <th>min</th>\n",
       "      <td>99.000000</td>\n",
       "      <td>150.000000</td>\n",
       "      <td>1.000000</td>\n",
       "      <td>1.000000</td>\n",
       "    </tr>\n",
       "    <tr>\n",
       "      <th>25%</th>\n",
       "      <td>390.000000</td>\n",
       "      <td>849.000000</td>\n",
       "      <td>40.000000</td>\n",
       "      <td>3.200000</td>\n",
       "    </tr>\n",
       "    <tr>\n",
       "      <th>50%</th>\n",
       "      <td>545.000000</td>\n",
       "      <td>1199.000000</td>\n",
       "      <td>53.000000</td>\n",
       "      <td>3.800000</td>\n",
       "    </tr>\n",
       "    <tr>\n",
       "      <th>75%</th>\n",
       "      <td>820.000000</td>\n",
       "      <td>1799.000000</td>\n",
       "      <td>63.000000</td>\n",
       "      <td>4.100000</td>\n",
       "    </tr>\n",
       "    <tr>\n",
       "      <th>max</th>\n",
       "      <td>7999.000000</td>\n",
       "      <td>12999.000000</td>\n",
       "      <td>87.000000</td>\n",
       "      <td>5.000000</td>\n",
       "    </tr>\n",
       "  </tbody>\n",
       "</table>\n",
       "</div>"
      ],
      "text/plain": [
       "       selling_price  actual_price      discount  average_rating\n",
       "count   28078.000000  27303.000000  27225.000000    25819.000000\n",
       "mean      705.635088   1455.528110     50.256896        3.627724\n",
       "std       549.681489    939.977456     16.887287        0.663429\n",
       "min        99.000000    150.000000      1.000000        1.000000\n",
       "25%       390.000000    849.000000     40.000000        3.200000\n",
       "50%       545.000000   1199.000000     53.000000        3.800000\n",
       "75%       820.000000   1799.000000     63.000000        4.100000\n",
       "max      7999.000000  12999.000000     87.000000        5.000000"
      ]
     },
     "execution_count": 43,
     "metadata": {},
     "output_type": "execute_result"
    }
   ],
   "source": [
    "#Basic statistics for numerical columns\n",
    "num_cols = [\"selling_price\", \"actual_price\", \"discount\", \"average_rating\"]\n",
    "products_cleaned[num_cols].describe()\n"
   ]
  },
  {
   "cell_type": "code",
   "execution_count": 44,
   "id": "ceb04c3a",
   "metadata": {},
   "outputs": [
    {
     "data": {
      "image/png": "[encoded data removed]",
      "text/plain": [
       "<Figure size 640x480 with 1 Axes>"
      ]
     },
     "metadata": {},
     "output_type": "display_data"
    },
    {
     "data": {
      "image/png": "[encoded data removed]",
      "text/plain": [
       "<Figure size 640x480 with 1 Axes>"
      ]
     },
     "metadata": {},
     "output_type": "display_data"
    },
    {
     "data": {
      "image/png": "[encoded data removed]",
      "text/plain": [
       "<Figure size 640x480 with 1 Axes>"
      ]
     },
     "metadata": {},
     "output_type": "display_data"
    },
    {
     "data": {
      "image/png": "[encoded data removed]",
      "text/plain": [
       "<Figure size 640x480 with 1 Axes>"
      ]
     },
     "metadata": {},
     "output_type": "display_data"
    }
   ],
   "source": [
    "for col in num_cols:\n",
    "    plt.figure()\n",
    "    products_cleaned[col].dropna().hist(bins=30, color=\"lightblue\", edgecolor=\"black\")\n",
    "    plt.title(f\"Distribution of {col}\")\n",
    "    plt.xlabel(col)\n",
    "    plt.ylabel(\"Count\")\n",
    "    plt.show()"
   ]
  },
  {
   "cell_type": "code",
   "execution_count": 47,
   "id": "282777cb",
   "metadata": {},
   "outputs": [
    {
     "name": "stdout",
     "output_type": "stream",
     "text": [
      "Top 5 most expensive products:\n"
     ]
    },
    {
     "data": {
      "text/html": [
       "<div>\n",
       "<style scoped>\n",
       "    .dataframe tbody tr th:only-of-type {\n",
       "        vertical-align: middle;\n",
       "    }\n",
       "\n",
       "    .dataframe tbody tr th {\n",
       "        vertical-align: top;\n",
       "    }\n",
       "\n",
       "    .dataframe thead th {\n",
       "        text-align: right;\n",
       "    }\n",
       "</style>\n",
       "<table border=\"1\" class=\"dataframe\">\n",
       "  <thead>\n",
       "    <tr style=\"text-align: right;\">\n",
       "      <th></th>\n",
       "      <th>title</th>\n",
       "      <th>selling_price</th>\n",
       "      <th>brand</th>\n",
       "    </tr>\n",
       "  </thead>\n",
       "  <tbody>\n",
       "    <tr>\n",
       "      <th>2067</th>\n",
       "      <td>solid women track suit</td>\n",
       "      <td>7999.0</td>\n",
       "      <td>REEB</td>\n",
       "    </tr>\n",
       "    <tr>\n",
       "      <th>11010</th>\n",
       "      <td>checker singl breast parti women full sleev bl...</td>\n",
       "      <td>7998.0</td>\n",
       "      <td>True Bl</td>\n",
       "    </tr>\n",
       "    <tr>\n",
       "      <th>25815</th>\n",
       "      <td>full sleev solid women casual jacket</td>\n",
       "      <td>7799.0</td>\n",
       "      <td>Pu</td>\n",
       "    </tr>\n",
       "    <tr>\n",
       "      <th>26089</th>\n",
       "      <td>full sleev print men sweatshirt</td>\n",
       "      <td>7799.0</td>\n",
       "      <td>Pu</td>\n",
       "    </tr>\n",
       "    <tr>\n",
       "      <th>6895</th>\n",
       "      <td>skinni men blue jean</td>\n",
       "      <td>7794.0</td>\n",
       "      <td>G</td>\n",
       "    </tr>\n",
       "  </tbody>\n",
       "</table>\n",
       "</div>"
      ],
      "text/plain": [
       "                                                   title  selling_price  \\\n",
       "2067                              solid women track suit         7999.0   \n",
       "11010  checker singl breast parti women full sleev bl...         7998.0   \n",
       "25815               full sleev solid women casual jacket         7799.0   \n",
       "26089                    full sleev print men sweatshirt         7799.0   \n",
       "6895                                skinni men blue jean         7794.0   \n",
       "\n",
       "         brand  \n",
       "2067      REEB  \n",
       "11010  True Bl  \n",
       "25815       Pu  \n",
       "26089       Pu  \n",
       "6895         G  "
      ]
     },
     "metadata": {},
     "output_type": "display_data"
    },
    {
     "name": "stdout",
     "output_type": "stream",
     "text": [
      "\n",
      "Top 5 biggest discounts:\n"
     ]
    },
    {
     "data": {
      "text/html": [
       "<div>\n",
       "<style scoped>\n",
       "    .dataframe tbody tr th:only-of-type {\n",
       "        vertical-align: middle;\n",
       "    }\n",
       "\n",
       "    .dataframe tbody tr th {\n",
       "        vertical-align: top;\n",
       "    }\n",
       "\n",
       "    .dataframe thead th {\n",
       "        text-align: right;\n",
       "    }\n",
       "</style>\n",
       "<table border=\"1\" class=\"dataframe\">\n",
       "  <thead>\n",
       "    <tr style=\"text-align: right;\">\n",
       "      <th></th>\n",
       "      <th>title</th>\n",
       "      <th>discount</th>\n",
       "      <th>brand</th>\n",
       "    </tr>\n",
       "  </thead>\n",
       "  <tbody>\n",
       "    <tr>\n",
       "      <th>906</th>\n",
       "      <td>print women round neck white</td>\n",
       "      <td>87.0</td>\n",
       "      <td>Jack Roy</td>\n",
       "    </tr>\n",
       "    <tr>\n",
       "      <th>902</th>\n",
       "      <td>print women round neck grey</td>\n",
       "      <td>86.0</td>\n",
       "      <td>Jack Roy</td>\n",
       "    </tr>\n",
       "    <tr>\n",
       "      <th>903</th>\n",
       "      <td>print women round neck white</td>\n",
       "      <td>86.0</td>\n",
       "      <td>Jack Roy</td>\n",
       "    </tr>\n",
       "    <tr>\n",
       "      <th>18249</th>\n",
       "      <td>print men round neck multicolor pack 2</td>\n",
       "      <td>85.0</td>\n",
       "      <td>yellowvib</td>\n",
       "    </tr>\n",
       "    <tr>\n",
       "      <th>520</th>\n",
       "      <td>print women round crew black grey</td>\n",
       "      <td>84.0</td>\n",
       "      <td>Fairdea</td>\n",
       "    </tr>\n",
       "  </tbody>\n",
       "</table>\n",
       "</div>"
      ],
      "text/plain": [
       "                                        title  discount      brand\n",
       "906              print women round neck white      87.0   Jack Roy\n",
       "902               print women round neck grey      86.0   Jack Roy\n",
       "903              print women round neck white      86.0   Jack Roy\n",
       "18249  print men round neck multicolor pack 2      85.0  yellowvib\n",
       "520         print women round crew black grey      84.0    Fairdea"
      ]
     },
     "metadata": {},
     "output_type": "display_data"
    },
    {
     "name": "stdout",
     "output_type": "stream",
     "text": [
      "\n",
      "Top 5 highest rated products:\n"
     ]
    },
    {
     "data": {
      "text/html": [
       "<div>\n",
       "<style scoped>\n",
       "    .dataframe tbody tr th:only-of-type {\n",
       "        vertical-align: middle;\n",
       "    }\n",
       "\n",
       "    .dataframe tbody tr th {\n",
       "        vertical-align: top;\n",
       "    }\n",
       "\n",
       "    .dataframe thead th {\n",
       "        text-align: right;\n",
       "    }\n",
       "</style>\n",
       "<table border=\"1\" class=\"dataframe\">\n",
       "  <thead>\n",
       "    <tr style=\"text-align: right;\">\n",
       "      <th></th>\n",
       "      <th>title</th>\n",
       "      <th>average_rating</th>\n",
       "      <th>brand</th>\n",
       "    </tr>\n",
       "  </thead>\n",
       "  <tbody>\n",
       "    <tr>\n",
       "      <th>12339</th>\n",
       "      <td>graphic print women round neck white</td>\n",
       "      <td>5.0</td>\n",
       "      <td>ATTIITU</td>\n",
       "    </tr>\n",
       "    <tr>\n",
       "      <th>12334</th>\n",
       "      <td>print solid men round neck black</td>\n",
       "      <td>5.0</td>\n",
       "      <td>ATTIITU</td>\n",
       "    </tr>\n",
       "    <tr>\n",
       "      <th>12348</th>\n",
       "      <td>solid women round neck black grey</td>\n",
       "      <td>5.0</td>\n",
       "      <td>ATTIITU</td>\n",
       "    </tr>\n",
       "    <tr>\n",
       "      <th>27767</th>\n",
       "      <td>solid women round neck blue</td>\n",
       "      <td>5.0</td>\n",
       "      <td>Oka</td>\n",
       "    </tr>\n",
       "    <tr>\n",
       "      <th>19971</th>\n",
       "      <td>regular fit men grey satin blend trouser</td>\n",
       "      <td>5.0</td>\n",
       "      <td>Adam Park</td>\n",
       "    </tr>\n",
       "  </tbody>\n",
       "</table>\n",
       "</div>"
      ],
      "text/plain": [
       "                                          title  average_rating      brand\n",
       "12339      graphic print women round neck white             5.0    ATTIITU\n",
       "12334          print solid men round neck black             5.0    ATTIITU\n",
       "12348         solid women round neck black grey             5.0    ATTIITU\n",
       "27767               solid women round neck blue             5.0        Oka\n",
       "19971  regular fit men grey satin blend trouser             5.0  Adam Park"
      ]
     },
     "metadata": {},
     "output_type": "display_data"
    }
   ],
   "source": [
    "# Top 5 most expensive products\n",
    "print(\"Top 5 most expensive products:\")\n",
    "display(products_cleaned[[\"title\", \"selling_price\", \"brand\"]]\n",
    "        .sort_values(\"selling_price\", ascending=False)\n",
    "        .head(5))\n",
    "\n",
    "# Top 5 biggest discounts\n",
    "print(\"\\nTop 5 biggest discounts:\")\n",
    "display(products_cleaned[[\"title\", \"discount\", \"brand\"]]\n",
    "        .sort_values(\"discount\", ascending=False)\n",
    "        .head(5))\n",
    "\n",
    "# Top 5 highest rated products\n",
    "print(\"\\nTop 5 highest rated products:\")\n",
    "display(products_cleaned[[\"title\", \"average_rating\", \"brand\"]]\n",
    "        .sort_values(\"average_rating\", ascending=False)\n",
    "        .head(5))\n"
   ]
  },
  {
   "cell_type": "markdown",
   "id": "87d0dc11",
   "metadata": {},
   "source": [
    "**Observation**  \n",
    "Prices are right-skewed (few very expensive items).  \n",
    "Discounts usually fall between ~50–80%.  \n",
    "Ratings cluster around 3–4 stars.  \n",
    "These patterns will be useful for simple filters and ranking tweaks later.\n"
   ]
  },
  {
   "cell_type": "markdown",
   "id": "e5a525d3",
   "metadata": {},
   "source": [
    "### 2.4 Top categories, brands, and sellers\n",
    "\n",
    "**Which categories, sub_categories, brands, and sellers are most frequent?**\n",
    "\n",
    "We count how many products belong to each category/brand/seller to understand the dataset composition and potential biases.\n"
   ]
  },
  {
   "cell_type": "code",
   "execution_count": 50,
   "id": "aefffeaa",
   "metadata": {},
   "outputs": [
    {
     "name": "stdout",
     "output_type": "stream",
     "text": [
      "\n",
      "Top 10 category:\n"
     ]
    },
    {
     "data": {
      "text/plain": [
       "category\n",
       "Clothing and Accessories    27118\n",
       "Footwear                      920\n",
       "Bags, Wallets & Belts          41\n",
       "Toys                            1\n",
       "Name: count, dtype: int64"
      ]
     },
     "metadata": {},
     "output_type": "display_data"
    },
    {
     "name": "stdout",
     "output_type": "stream",
     "text": [
      "\n",
      "Top 10 sub_category:\n"
     ]
    },
    {
     "data": {
      "text/plain": [
       "sub_category\n",
       "Topwear                            15310\n",
       "Bottomwear                          3666\n",
       "Winter Wear                         2493\n",
       "Innerwear and Swimwear              1762\n",
       "Clothing Accessories                1742\n",
       "Kurtas, Ethnic Sets and Bottoms     1180\n",
       "Men's Footwear                       920\n",
       "Fabrics                              534\n",
       "Sleepwear                            122\n",
       "Blazers, Waistcoats and Suits        103\n",
       "Name: count, dtype: int64"
      ]
     },
     "metadata": {},
     "output_type": "display_data"
    },
    {
     "name": "stdout",
     "output_type": "stream",
     "text": [
      "\n",
      "Top 15 brand:\n"
     ]
    },
    {
     "data": {
      "text/plain": [
       "brand\n",
       "                2009\n",
       "ECKO Unl         951\n",
       "Free Authori     860\n",
       "ARBO             806\n",
       "REEB             802\n",
       "Pu               798\n",
       "True Bl          793\n",
       "Keo              660\n",
       "Amp              585\n",
       "Black Beat       548\n",
       "vims rai         503\n",
       "yellowvib        492\n",
       "PixF             429\n",
       "Oka              414\n",
       "Gracew           405\n",
       "Name: count, dtype: int64"
      ]
     },
     "metadata": {},
     "output_type": "display_data"
    },
    {
     "name": "stdout",
     "output_type": "stream",
     "text": [
      "\n",
      "Top 15 seller:\n"
     ]
    },
    {
     "data": {
      "text/plain": [
       "seller\n",
       "                         1643\n",
       "RetailNet                1411\n",
       "SandSMarketing            887\n",
       "BioworldMerchandising     842\n",
       "ARBOR                     783\n",
       "Keoti                     660\n",
       "AFFGARMENTS               587\n",
       "Black Beatle              548\n",
       "AMALGUS ENTERPRISE        477\n",
       "Tayab Manch Fashions      436\n",
       "KAPSONSRETAILPVTLTD       415\n",
       "GRACEWAY                  408\n",
       "T-SHIRT EXPRESS           393\n",
       "OKANE                     386\n",
       "WHITE SKY                 371\n",
       "Name: count, dtype: int64"
      ]
     },
     "metadata": {},
     "output_type": "display_data"
    },
    {
     "data": {
      "image/png": "[encoded data removed]",
      "text/plain": [
       "<Figure size 640x480 with 1 Axes>"
      ]
     },
     "metadata": {},
     "output_type": "display_data"
    },
    {
     "data": {
      "image/png": "[encoded data removed]",
      "text/plain": [
       "<Figure size 640x480 with 1 Axes>"
      ]
     },
     "metadata": {},
     "output_type": "display_data"
    },
    {
     "data": {
      "image/png": "[encoded data removed]",
      "text/plain": [
       "<Figure size 640x480 with 1 Axes>"
      ]
     },
     "metadata": {},
     "output_type": "display_data"
    },
    {
     "data": {
      "image/png": "[encoded data removed]",
      "text/plain": [
       "<Figure size 640x480 with 1 Axes>"
      ]
     },
     "metadata": {},
     "output_type": "display_data"
    }
   ],
   "source": [
    "# Simple frequency tables (Top-N)\n",
    "top_cfg = {\n",
    "    \"category\": 10,\n",
    "    \"sub_category\": 10,\n",
    "    \"brand\": 15,\n",
    "    \"seller\": 15\n",
    "}\n",
    "\n",
    "for col, k in top_cfg.items():\n",
    "    print(f\"\\nTop {k} {col}:\")\n",
    "    counts = products_cleaned[col].value_counts().head(k)\n",
    "    display(counts)\n",
    "\n",
    "for col, k in top_cfg.items():\n",
    "    counts = products_cleaned[col].value_counts().head(k)\n",
    "    plt.figure()\n",
    "    counts.plot(kind=\"bar\", edgecolor=\"black\")\n",
    "    plt.title(f\"Top {k} {col}\")\n",
    "    plt.xlabel(col); plt.ylabel(\"Count\")\n",
    "    plt.xticks(rotation=45, ha=\"right\")\n",
    "    plt.tight_layout()\n",
    "    plt.show()"
   ]
  }
 ],
 "metadata": {
  "kernelspec": {
   "display_name": "irwa",
   "language": "python",
   "name": "python3"
  },
  "language_info": {
   "codemirror_mode": {
    "name": "ipython",
    "version": 3
   },
   "file_extension": ".py",
   "mimetype": "text/x-python",
   "name": "python",
   "nbconvert_exporter": "python",
   "pygments_lexer": "ipython3",
   "version": "3.10.18"
  }
 },
 "nbformat": 4,
 "nbformat_minor": 5
}
