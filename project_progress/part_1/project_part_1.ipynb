{
 "cells": [
  {
   "cell_type": "markdown",
   "id": "13ec4a4d",
   "metadata": {},
   "source": [
    "# Part 1: Text Processing and Exploratory Data Analysis"
   ]
  },
  {
   "cell_type": "markdown",
   "id": "75e094a5",
   "metadata": {},
   "source": [
    "Author/s: <font color=\"blue\">Jhonatan Barcos Gambaro | Daniel Alexander Yearwood</font>\n",
    "\n",
    "E-mail: <font color=\"blue\">jhonatan.barcos01@estudiant.upf.edu | danielalexander.yearwood01@estudiant.upf.edu </font>\n",
    "\n",
    "Date: <font color=\"blue\">24/10/2025</font>"
   ]
  },
  {
   "cell_type": "code",
   "execution_count": 66,
   "id": "bb471297",
   "metadata": {},
   "outputs": [],
   "source": [
    "# Import libraries\n",
    "import numpy as np\n",
    "import pandas as pd\n",
    "import matplotlib.pyplot as plt\n",
    "import re\n",
    "\n",
    "import nltk\n",
    "from nltk.corpus import stopwords\n",
    "from nltk.tokenize import word_tokenize"
   ]
  },
  {
   "cell_type": "code",
   "execution_count": 67,
   "id": "c514f85c",
   "metadata": {},
   "outputs": [],
   "source": [
    "# Download nltk resources\n",
    "#nltk.download('punkt')\n",
    "#nltk.download('stopwords')"
   ]
  },
  {
   "cell_type": "code",
   "execution_count": 68,
   "id": "0df73b5d",
   "metadata": {},
   "outputs": [
    {
     "data": {
      "text/html": [
       "<div>\n",
       "<style scoped>\n",
       "    .dataframe tbody tr th:only-of-type {\n",
       "        vertical-align: middle;\n",
       "    }\n",
       "\n",
       "    .dataframe tbody tr th {\n",
       "        vertical-align: top;\n",
       "    }\n",
       "\n",
       "    .dataframe thead th {\n",
       "        text-align: right;\n",
       "    }\n",
       "</style>\n",
       "<table border=\"1\" class=\"dataframe\">\n",
       "  <thead>\n",
       "    <tr style=\"text-align: right;\">\n",
       "      <th></th>\n",
       "      <th>_id</th>\n",
       "      <th>actual_price</th>\n",
       "      <th>average_rating</th>\n",
       "      <th>brand</th>\n",
       "      <th>category</th>\n",
       "      <th>crawled_at</th>\n",
       "      <th>description</th>\n",
       "      <th>discount</th>\n",
       "      <th>images</th>\n",
       "      <th>out_of_stock</th>\n",
       "      <th>pid</th>\n",
       "      <th>product_details</th>\n",
       "      <th>seller</th>\n",
       "      <th>selling_price</th>\n",
       "      <th>sub_category</th>\n",
       "      <th>title</th>\n",
       "      <th>url</th>\n",
       "    </tr>\n",
       "  </thead>\n",
       "  <tbody>\n",
       "    <tr>\n",
       "      <th>0</th>\n",
       "      <td>fa8e22d6-c0b6-5229-bb9e-ad52eda39a0a</td>\n",
       "      <td>2,999</td>\n",
       "      <td>3.9</td>\n",
       "      <td>York</td>\n",
       "      <td>Clothing and Accessories</td>\n",
       "      <td>2021-02-10 20:11:51</td>\n",
       "      <td>Yorker trackpants made from 100% rich combed c...</td>\n",
       "      <td>69% off</td>\n",
       "      <td>[https://rukminim1.flixcart.com/image/128/128/...</td>\n",
       "      <td>False</td>\n",
       "      <td>TKPFCZ9EA7H5FYZH</td>\n",
       "      <td>[{'Style Code': '1005COMBO2'}, {'Closure': 'El...</td>\n",
       "      <td>Shyam Enterprises</td>\n",
       "      <td>921</td>\n",
       "      <td>Bottomwear</td>\n",
       "      <td>Solid Women Multicolor Track Pants</td>\n",
       "      <td>https://www.flipkart.com/yorker-solid-men-mult...</td>\n",
       "    </tr>\n",
       "    <tr>\n",
       "      <th>1</th>\n",
       "      <td>893e6980-f2a0-531f-b056-34dd63fe912c</td>\n",
       "      <td>1,499</td>\n",
       "      <td>3.9</td>\n",
       "      <td>York</td>\n",
       "      <td>Clothing and Accessories</td>\n",
       "      <td>2021-02-10 20:11:52</td>\n",
       "      <td>Yorker trackpants made from 100% rich combed c...</td>\n",
       "      <td>66% off</td>\n",
       "      <td>[https://rukminim1.flixcart.com/image/128/128/...</td>\n",
       "      <td>False</td>\n",
       "      <td>TKPFCZ9EJZV2UVRZ</td>\n",
       "      <td>[{'Style Code': '1005BLUE'}, {'Closure': 'Draw...</td>\n",
       "      <td>Shyam Enterprises</td>\n",
       "      <td>499</td>\n",
       "      <td>Bottomwear</td>\n",
       "      <td>Solid Men Blue Track Pants</td>\n",
       "      <td>https://www.flipkart.com/yorker-solid-men-blue...</td>\n",
       "    </tr>\n",
       "    <tr>\n",
       "      <th>2</th>\n",
       "      <td>eb4c8eab-8206-59d0-bcd1-a724d96bf74f</td>\n",
       "      <td>2,999</td>\n",
       "      <td>3.9</td>\n",
       "      <td>York</td>\n",
       "      <td>Clothing and Accessories</td>\n",
       "      <td>2021-02-10 20:11:52</td>\n",
       "      <td>Yorker trackpants made from 100% rich combed c...</td>\n",
       "      <td>68% off</td>\n",
       "      <td>[https://rukminim1.flixcart.com/image/128/128/...</td>\n",
       "      <td>False</td>\n",
       "      <td>TKPFCZ9EHFCY5Z4Y</td>\n",
       "      <td>[{'Style Code': '1005COMBO4'}, {'Closure': 'El...</td>\n",
       "      <td>Shyam Enterprises</td>\n",
       "      <td>931</td>\n",
       "      <td>Bottomwear</td>\n",
       "      <td>Solid Men Multicolor Track Pants</td>\n",
       "      <td>https://www.flipkart.com/yorker-solid-men-mult...</td>\n",
       "    </tr>\n",
       "    <tr>\n",
       "      <th>3</th>\n",
       "      <td>3f3f97bb-5faf-57df-a9ff-1af24e2b1045</td>\n",
       "      <td>2,999</td>\n",
       "      <td>3.9</td>\n",
       "      <td>York</td>\n",
       "      <td>Clothing and Accessories</td>\n",
       "      <td>2021-02-10 20:11:53</td>\n",
       "      <td>Yorker trackpants made from 100% rich combed c...</td>\n",
       "      <td>69% off</td>\n",
       "      <td>[https://rukminim1.flixcart.com/image/128/128/...</td>\n",
       "      <td>False</td>\n",
       "      <td>TKPFCZ9ESZZ7YWEF</td>\n",
       "      <td>[{'Style Code': '1005COMBO3'}, {'Closure': 'El...</td>\n",
       "      <td>Shyam Enterprises</td>\n",
       "      <td>911</td>\n",
       "      <td>Bottomwear</td>\n",
       "      <td>Solid Women Multicolor Track Pants</td>\n",
       "      <td>https://www.flipkart.com/yorker-solid-men-mult...</td>\n",
       "    </tr>\n",
       "    <tr>\n",
       "      <th>4</th>\n",
       "      <td>750caa3d-6264-53ca-8ce1-94118a1d8951</td>\n",
       "      <td>2,999</td>\n",
       "      <td>3.9</td>\n",
       "      <td>York</td>\n",
       "      <td>Clothing and Accessories</td>\n",
       "      <td>2021-02-10 20:11:53</td>\n",
       "      <td>Yorker trackpants made from 100% rich combed c...</td>\n",
       "      <td>68% off</td>\n",
       "      <td>[https://rukminim1.flixcart.com/image/128/128/...</td>\n",
       "      <td>False</td>\n",
       "      <td>TKPFCZ9EVXKBSUD7</td>\n",
       "      <td>[{'Style Code': '1005COMBO1'}, {'Closure': 'Dr...</td>\n",
       "      <td>Shyam Enterprises</td>\n",
       "      <td>943</td>\n",
       "      <td>Bottomwear</td>\n",
       "      <td>Solid Women Brown, Grey Track Pants</td>\n",
       "      <td>https://www.flipkart.com/yorker-solid-men-brow...</td>\n",
       "    </tr>\n",
       "  </tbody>\n",
       "</table>\n",
       "</div>"
      ],
      "text/plain": [
       "                                    _id actual_price average_rating brand  \\\n",
       "0  fa8e22d6-c0b6-5229-bb9e-ad52eda39a0a        2,999            3.9  York   \n",
       "1  893e6980-f2a0-531f-b056-34dd63fe912c        1,499            3.9  York   \n",
       "2  eb4c8eab-8206-59d0-bcd1-a724d96bf74f        2,999            3.9  York   \n",
       "3  3f3f97bb-5faf-57df-a9ff-1af24e2b1045        2,999            3.9  York   \n",
       "4  750caa3d-6264-53ca-8ce1-94118a1d8951        2,999            3.9  York   \n",
       "\n",
       "                   category          crawled_at  \\\n",
       "0  Clothing and Accessories 2021-02-10 20:11:51   \n",
       "1  Clothing and Accessories 2021-02-10 20:11:52   \n",
       "2  Clothing and Accessories 2021-02-10 20:11:52   \n",
       "3  Clothing and Accessories 2021-02-10 20:11:53   \n",
       "4  Clothing and Accessories 2021-02-10 20:11:53   \n",
       "\n",
       "                                         description discount  \\\n",
       "0  Yorker trackpants made from 100% rich combed c...  69% off   \n",
       "1  Yorker trackpants made from 100% rich combed c...  66% off   \n",
       "2  Yorker trackpants made from 100% rich combed c...  68% off   \n",
       "3  Yorker trackpants made from 100% rich combed c...  69% off   \n",
       "4  Yorker trackpants made from 100% rich combed c...  68% off   \n",
       "\n",
       "                                              images  out_of_stock  \\\n",
       "0  [https://rukminim1.flixcart.com/image/128/128/...         False   \n",
       "1  [https://rukminim1.flixcart.com/image/128/128/...         False   \n",
       "2  [https://rukminim1.flixcart.com/image/128/128/...         False   \n",
       "3  [https://rukminim1.flixcart.com/image/128/128/...         False   \n",
       "4  [https://rukminim1.flixcart.com/image/128/128/...         False   \n",
       "\n",
       "                pid                                    product_details  \\\n",
       "0  TKPFCZ9EA7H5FYZH  [{'Style Code': '1005COMBO2'}, {'Closure': 'El...   \n",
       "1  TKPFCZ9EJZV2UVRZ  [{'Style Code': '1005BLUE'}, {'Closure': 'Draw...   \n",
       "2  TKPFCZ9EHFCY5Z4Y  [{'Style Code': '1005COMBO4'}, {'Closure': 'El...   \n",
       "3  TKPFCZ9ESZZ7YWEF  [{'Style Code': '1005COMBO3'}, {'Closure': 'El...   \n",
       "4  TKPFCZ9EVXKBSUD7  [{'Style Code': '1005COMBO1'}, {'Closure': 'Dr...   \n",
       "\n",
       "              seller selling_price sub_category  \\\n",
       "0  Shyam Enterprises           921   Bottomwear   \n",
       "1  Shyam Enterprises           499   Bottomwear   \n",
       "2  Shyam Enterprises           931   Bottomwear   \n",
       "3  Shyam Enterprises           911   Bottomwear   \n",
       "4  Shyam Enterprises           943   Bottomwear   \n",
       "\n",
       "                                 title  \\\n",
       "0   Solid Women Multicolor Track Pants   \n",
       "1           Solid Men Blue Track Pants   \n",
       "2     Solid Men Multicolor Track Pants   \n",
       "3   Solid Women Multicolor Track Pants   \n",
       "4  Solid Women Brown, Grey Track Pants   \n",
       "\n",
       "                                                 url  \n",
       "0  https://www.flipkart.com/yorker-solid-men-mult...  \n",
       "1  https://www.flipkart.com/yorker-solid-men-blue...  \n",
       "2  https://www.flipkart.com/yorker-solid-men-mult...  \n",
       "3  https://www.flipkart.com/yorker-solid-men-mult...  \n",
       "4  https://www.flipkart.com/yorker-solid-men-brow...  "
      ]
     },
     "metadata": {},
     "output_type": "display_data"
    }
   ],
   "source": [
    "# Upload dataset\n",
    "data_path = '../../data/fashion_products_dataset.json'\n",
    "products = pd.read_json(data_path)\n",
    "\n",
    "# Display head of the dataset\n",
    "display(products.head(5))"
   ]
  },
  {
   "cell_type": "markdown",
   "id": "55a8c718",
   "metadata": {},
   "source": [
    "## 1.1. Pre-Processing text"
   ]
  },
  {
   "cell_type": "markdown",
   "id": "5cd653d0",
   "metadata": {},
   "source": [
    "Pre-process of the documents. In particular, for the text fields (title,\n",
    "description)"
   ]
  },
  {
   "cell_type": "code",
   "execution_count": 69,
   "id": "13485123",
   "metadata": {},
   "outputs": [],
   "source": [
    "# Define clean_text function to preprocess documents:\n",
    "# 1. Removing stop words with nltk\n",
    "# 2. Tokenization with nltk\n",
    "# 3. Removing punctuation marks\n",
    "# 4. Stemming with nltk's PorterStemmer\n",
    "stop_words = set(stopwords.words(\"english\"))\n",
    "stemmer = nltk.PorterStemmer()\n",
    "\n",
    "def clean_text(text):\n",
    "    word_tokens = word_tokenize(text.lower())\n",
    "    textos_limpios = ' '.join([word for word in word_tokens if word not in stop_words and word.isalnum()])\n",
    "    textos_limpios = ' '.join([stemmer.stem(word) for word in word_tokenize(textos_limpios)])\n",
    "    return textos_limpios"
   ]
  },
  {
   "cell_type": "code",
   "execution_count": 70,
   "id": "ccdecc4b",
   "metadata": {},
   "outputs": [],
   "source": [
    "def clean_text_without_stemming(text):\n",
    "    word_tokens = word_tokenize(text.lower())\n",
    "    clean_text = ' '.join([word for word in word_tokens if word not in stop_words and word.isalnum()])\n",
    "    return clean_text"
   ]
  },
  {
   "cell_type": "code",
   "execution_count": 71,
   "id": "43b7adee",
   "metadata": {},
   "outputs": [],
   "source": [
    "# Apply clean_text function to the columns 'title' and 'description' of the products dataset\n",
    "products_cleaned = products.copy()\n",
    "products_cleaned['title'] = products_cleaned['title'].apply(clean_text)\n",
    "products_cleaned['cleaned'] = products_cleaned['description'].apply(clean_text)"
   ]
  },
  {
   "cell_type": "code",
   "execution_count": 72,
   "id": "7a66c05b",
   "metadata": {},
   "outputs": [
    {
     "name": "stdout",
     "output_type": "stream",
     "text": [
      "Title: Solid Women Multicolor Track Pants\n",
      "Cleaned Title: solid women multicolor track pant\n",
      "Description: Yorker trackpants made from 100% rich combed cotton giving it a rich look.Designed for Comfort,Skin friendly fabric,itch-free waistband & great for all year round use Proudly made in India\n",
      "Cleaned Description: yorker trackpant made 100 rich comb cotton give rich comfort skin friendli fabric waistband great year round use proudli made india \n",
      "\n",
      "Title: Solid Men Blue Track Pants\n",
      "Cleaned Title: solid men blue track pant\n",
      "Description: Yorker trackpants made from 100% rich combed cotton giving it a rich look.Designed for Comfort,Skin friendly fabric,itch-free waistband & great for all year round use Proudly made in India\n",
      "Cleaned Description: yorker trackpant made 100 rich comb cotton give rich comfort skin friendli fabric waistband great year round use proudli made india \n",
      "\n"
     ]
    }
   ],
   "source": [
    "# Print title, cleaned_title, description, cleaned_description of the first 2 products\n",
    "for i in range(2):\n",
    "    print(\"Title:\", products['title'].iloc[i])\n",
    "    print(\"Cleaned Title:\", products_cleaned['title'].iloc[i])\n",
    "    print(\"Description:\", products['description'].iloc[i])\n",
    "    print(\"Cleaned Description:\", products_cleaned['cleaned'].iloc[i], \"\\n\")"
   ]
  },
  {
   "cell_type": "markdown",
   "id": "a7e897d0",
   "metadata": {},
   "source": [
    "## 1.2. Handle of category, sub_category, brand, product_details, and seller during pre-processing. \n"
   ]
  },
  {
   "cell_type": "code",
   "execution_count": 73,
   "id": "ba235fd6",
   "metadata": {},
   "outputs": [
    {
     "name": "stdout",
     "output_type": "stream",
     "text": [
      "Displaying first 3 products of the columns to analyze:\n"
     ]
    },
    {
     "data": {
      "text/html": [
       "<div>\n",
       "<style scoped>\n",
       "    .dataframe tbody tr th:only-of-type {\n",
       "        vertical-align: middle;\n",
       "    }\n",
       "\n",
       "    .dataframe tbody tr th {\n",
       "        vertical-align: top;\n",
       "    }\n",
       "\n",
       "    .dataframe thead th {\n",
       "        text-align: right;\n",
       "    }\n",
       "</style>\n",
       "<table border=\"1\" class=\"dataframe\">\n",
       "  <thead>\n",
       "    <tr style=\"text-align: right;\">\n",
       "      <th></th>\n",
       "      <th>category</th>\n",
       "      <th>sub_category</th>\n",
       "      <th>brand</th>\n",
       "      <th>product_details</th>\n",
       "      <th>seller</th>\n",
       "    </tr>\n",
       "  </thead>\n",
       "  <tbody>\n",
       "    <tr>\n",
       "      <th>0</th>\n",
       "      <td>Clothing and Accessories</td>\n",
       "      <td>Bottomwear</td>\n",
       "      <td>York</td>\n",
       "      <td>[{'Style Code': '1005COMBO2'}, {'Closure': 'El...</td>\n",
       "      <td>Shyam Enterprises</td>\n",
       "    </tr>\n",
       "    <tr>\n",
       "      <th>1</th>\n",
       "      <td>Clothing and Accessories</td>\n",
       "      <td>Bottomwear</td>\n",
       "      <td>York</td>\n",
       "      <td>[{'Style Code': '1005BLUE'}, {'Closure': 'Draw...</td>\n",
       "      <td>Shyam Enterprises</td>\n",
       "    </tr>\n",
       "    <tr>\n",
       "      <th>2</th>\n",
       "      <td>Clothing and Accessories</td>\n",
       "      <td>Bottomwear</td>\n",
       "      <td>York</td>\n",
       "      <td>[{'Style Code': '1005COMBO4'}, {'Closure': 'El...</td>\n",
       "      <td>Shyam Enterprises</td>\n",
       "    </tr>\n",
       "  </tbody>\n",
       "</table>\n",
       "</div>"
      ],
      "text/plain": [
       "                   category sub_category brand  \\\n",
       "0  Clothing and Accessories   Bottomwear  York   \n",
       "1  Clothing and Accessories   Bottomwear  York   \n",
       "2  Clothing and Accessories   Bottomwear  York   \n",
       "\n",
       "                                     product_details             seller  \n",
       "0  [{'Style Code': '1005COMBO2'}, {'Closure': 'El...  Shyam Enterprises  \n",
       "1  [{'Style Code': '1005BLUE'}, {'Closure': 'Draw...  Shyam Enterprises  \n",
       "2  [{'Style Code': '1005COMBO4'}, {'Closure': 'El...  Shyam Enterprises  "
      ]
     },
     "metadata": {},
     "output_type": "display_data"
    },
    {
     "name": "stdout",
     "output_type": "stream",
     "text": [
      "\n",
      "Displaying unique values in each column to analyze:\n"
     ]
    },
    {
     "data": {
      "text/plain": [
       "category          4\n",
       "sub_category     24\n",
       "brand           325\n",
       "seller          535\n",
       "dtype: int64"
      ]
     },
     "metadata": {},
     "output_type": "display_data"
    },
    {
     "name": "stdout",
     "output_type": "stream",
     "text": [
      "\n",
      "Displaying values in product_details for the first 10 products:\n",
      "\n",
      "Product 1 product_details: [{'Style Code': '1005COMBO2'}, {'Closure': 'Elastic'}, {'Pockets': 'Side Pockets'}, {'Fabric': 'Cotton Blend'}, {'Pattern': 'Solid'}, {'Color': 'Multicolor'}]\n",
      "Product 2 product_details: [{'Style Code': '1005BLUE'}, {'Closure': 'Drawstring, Elastic'}, {'Pockets': 'Side Pockets'}, {'Fabric': 'Cotton Blend'}, {'Pattern': 'Solid'}, {'Color': 'Blue'}]\n",
      "Product 3 product_details: [{'Style Code': '1005COMBO4'}, {'Closure': 'Elastic'}, {'Pockets': 'Side Pockets'}, {'Fabric': 'Cotton Blend'}, {'Pattern': 'Solid'}, {'Color': 'Multicolor'}]\n",
      "Product 4 product_details: [{'Style Code': '1005COMBO3'}, {'Closure': 'Elastic'}, {'Pockets': 'Side Pockets'}, {'Fabric': 'Cotton Blend'}, {'Pattern': 'Solid'}, {'Color': 'Multicolor'}]\n",
      "Product 5 product_details: [{'Style Code': '1005COMBO1'}, {'Closure': 'Drawstring, Elastic'}, {'Pockets': 'Side Pockets'}, {'Fabric': 'Cotton Blend'}, {'Pattern': 'Solid'}, {'Color': 'Brown, Grey'}]\n",
      "Product 6 product_details: [{'Style Code': '1005COMBO12'}, {'Closure': 'Elastic'}, {'Pockets': 'Side Pockets'}, {'Fabric': 'Cotton Blend'}, {'Pattern': 'Solid'}, {'Color': 'Multicolor'}]\n",
      "Product 7 product_details: [{'Style Code': '1005NAVI'}, {'Closure': 'Elastic'}, {'Pockets': 'Side Pockets'}, {'Fabric': 'Cotton Blend'}, {'Pattern': 'Solid'}, {'Color': 'Dark Blue'}]\n",
      "Product 8 product_details: [{'Style Code': '1005DSKIN'}, {'Closure': 'Elastic'}, {'Pockets': 'Side Pockets'}, {'Fabric': 'Cotton Blend'}, {'Pattern': 'Solid'}, {'Color': 'Beige'}]\n",
      "Product 9 product_details: [{'Style Code': '1005BLACK'}, {'Closure': 'Drawstring, Elastic'}, {'Pockets': 'Side Pockets'}, {'Fabric': 'Cotton Blend'}, {'Pattern': 'Solid'}, {'Color': 'Black'}]\n",
      "Product 10 product_details: [{'Style Code': '1005MLGREY'}, {'Closure': 'Elastic'}, {'Pockets': 'Side Pockets'}, {'Fabric': 'Cotton Blend'}, {'Pattern': 'Solid'}, {'Color': 'Grey'}]\n"
     ]
    }
   ],
   "source": [
    "# First we'll analyze the columns category, sub_category, brand, product_details, and seller to decide how to handle them during pre-processing\n",
    "columns_to_analyze = ['category', 'sub_category', 'brand', 'product_details', 'seller']\n",
    "columns_to_analyze_reduced = ['category', 'sub_category', 'brand', 'seller'] # Remove product_details due to is a list\n",
    "\n",
    "# Display first 3 products of the columns to analyze\n",
    "print(\"Displaying first 3 products of the columns to analyze:\")\n",
    "display(products[columns_to_analyze].head(3))\n",
    "\n",
    "# Analyze the unique values in each column to analyze\n",
    "print(\"\\nDisplaying unique values in each column to analyze:\")\n",
    "display(products[columns_to_analyze_reduced].nunique())\n",
    "\n",
    "# Analyze the values of product_details list of the first 10 products\n",
    "print(\"\\nDisplaying values in product_details for the first 10 products:\\n\")\n",
    "for i in range(10):\n",
    "    print(\"Product\", i+1, \"product_details:\", products['product_details'].iloc[i])"
   ]
  },
  {
   "cell_type": "markdown",
   "id": "d947562c",
   "metadata": {},
   "source": [
    "One we analyze the columns to pre-process, to take the best decision we'll study the validation_labels.csv, which will play a pivotal role in the project’s\n",
    "second phase."
   ]
  },
  {
   "cell_type": "markdown",
   "id": "373a166a",
   "metadata": {},
   "source": [
    "```python\n",
    "For your reference: \n",
    "query_1: women full sleeve sweatshirt cotton,\n",
    "query_2: men slim jeans blue\n"
   ]
  },
  {
   "cell_type": "code",
   "execution_count": 74,
   "id": "f8c5f0ad",
   "metadata": {},
   "outputs": [
    {
     "data": {
      "text/markdown": [
       "\n",
       "Recommendation — hybrid approach\n",
       "- Index category, sub_category, brand and seller as separate fields (fielded index / facets).\n",
       "- Parse product_details (list of dicts) into structured attribute fields (e.g. color, fabric, pattern) and also produce a flattened details_text.\n",
       "- Additionally create a merged `all_text` field (title + description + flattened product_details + brand) for full‑text retrieval and ranking.\n",
       "\n",
       "Justification\n",
       "- Distinctiveness: category/sub_category give coarse topical signals; brand and seller are metadata/facets that strongly affect filtering and precision; product_details contain fine-grained attributes (color, fabric, fit) that are crucial for exact-match and attribute queries.\n",
       "- Retrieval effectiveness improves when you can both do free-text matching (high recall) on an aggregated field and apply fielded boosting/filters (high precision) on structured fields.\n",
       "\n",
       "Pros & cons\n",
       "- Merged single field only\n",
       "    - Pros: simpler index; higher recall for free-text queries.\n",
       "    - Cons: loses attribute semantics (cannot boost by brand or filter by color easily); ranking cannot exploit field importance.\n",
       "- Separate fields only\n",
       "    - Pros: precise filtering, faceted navigation, field-specific boosting, better precision.\n",
       "    - Cons: may reduce recall for queries where words appear across different fields; more index complexity.\n",
       "- Hybrid (recommended)\n",
       "    - Pros: best of both — use `all_text` for recall and phrase matching, use structured fields and facets for precision and business rules (boost brand, filter by category, exact match on attributes).\n",
       "    - Cons: larger index size, slightly more complex ingestion (parse product_details), need to tune field weights and analyzers.\n",
       "\n",
       "Implementation notes\n",
       "- Normalize values: lowercase, canonicalize brand/seller names, map synonyms (e.g., \"tee\" → \"t-shirt\").\n",
       "- product_details: extract key/value pairs; index keys as fields and also index \"key:value\" tokens (e.g., `color_blue`) to preserve semantics and support exact attribute queries.\n",
       "- Field analyzers: use keyword (non-tokenized) for brand and category IDs, use text analyzer (with stemming/stopword removal) for title/description/details_text.\n",
       "- Use field boosting at query time (e.g., title>brand>details>all_text) and provide faceted filters on category/sub_category/brand/seller/attributes.\n",
       "\n",
       "Short summary\n",
       "- Parse product_details into structured attributes, keep category/sub_category/brand/seller as separate, and also maintain a merged `all_text` for full-text ranking. Tune analyzers and field weights for best balance of recall and precision.\n"
      ],
      "text/plain": [
       "<IPython.core.display.Markdown object>"
      ]
     },
     "metadata": {},
     "output_type": "display_data"
    }
   ],
   "source": [
    "explanation = \"\"\"\n",
    "Recommendation — hybrid approach\n",
    "- Index category, sub_category, brand and seller as separate fields (fielded index / facets).\n",
    "- Parse product_details (list of dicts) into structured attribute fields (e.g. color, fabric, pattern) and also produce a flattened details_text.\n",
    "- Additionally create a merged `all_text` field (title + description + flattened product_details + brand) for full‑text retrieval and ranking.\n",
    "\n",
    "Justification\n",
    "- Distinctiveness: category/sub_category give coarse topical signals; brand and seller are metadata/facets that strongly affect filtering and precision; product_details contain fine-grained attributes (color, fabric, fit) that are crucial for exact-match and attribute queries.\n",
    "- Retrieval effectiveness improves when you can both do free-text matching (high recall) on an aggregated field and apply fielded boosting/filters (high precision) on structured fields.\n",
    "\n",
    "Pros & cons\n",
    "- Merged single field only\n",
    "    - Pros: simpler index; higher recall for free-text queries.\n",
    "    - Cons: loses attribute semantics (cannot boost by brand or filter by color easily); ranking cannot exploit field importance.\n",
    "- Separate fields only\n",
    "    - Pros: precise filtering, faceted navigation, field-specific boosting, better precision.\n",
    "    - Cons: may reduce recall for queries where words appear across different fields; more index complexity.\n",
    "- Hybrid (recommended)\n",
    "    - Pros: best of both — use `all_text` for recall and phrase matching, use structured fields and facets for precision and business rules (boost brand, filter by category, exact match on attributes).\n",
    "    - Cons: larger index size, slightly more complex ingestion (parse product_details), need to tune field weights and analyzers.\n",
    "\n",
    "Implementation notes\n",
    "- Normalize values: lowercase, canonicalize brand/seller names, map synonyms (e.g., \"tee\" → \"t-shirt\").\n",
    "- product_details: extract key/value pairs; index keys as fields and also index \"key:value\" tokens (e.g., `color_blue`) to preserve semantics and support exact attribute queries.\n",
    "- Field analyzers: use keyword (non-tokenized) for brand and category IDs, use text analyzer (with stemming/stopword removal) for title/description/details_text.\n",
    "- Use field boosting at query time (e.g., title>brand>details>all_text) and provide faceted filters on category/sub_category/brand/seller/attributes.\n",
    "\n",
    "Short summary\n",
    "- Parse product_details into structured attributes, keep category/sub_category/brand/seller as separate, and also maintain a merged `all_text` for full-text ranking. Tune analyzers and field weights for best balance of recall and precision.\n",
    "\"\"\"\n",
    "\n",
    "display(Markdown(explanation))"
   ]
  },
  {
   "cell_type": "markdown",
   "id": "a1b0f34f",
   "metadata": {},
   "source": [
    "**Should they be merged into a single text field, indexed as separate fields in the inverted index or any other alternative?**"
   ]
  },
  {
   "cell_type": "markdown",
   "id": "277562a4",
   "metadata": {},
   "source": [
    "**Justify your choice, considering how their distinctiveness may affect retrieval effectiveness.**"
   ]
  },
  {
   "cell_type": "markdown",
   "id": "a58793b4",
   "metadata": {},
   "source": [
    "**What are pros and cons of each approach?**"
   ]
  },
  {
   "cell_type": "code",
   "execution_count": null,
   "id": "41b5f40d",
   "metadata": {},
   "outputs": [],
   "source": [
    "# Hybrid approach implementation (fixed flattening for product_details structured as list of single-key dicts)\n",
    "\n",
    "# Define auxiliar functions \n",
    "# 1. preprocess_full_text: to preprocess text for full-text field (All Text)\n",
    "def preprocess_full_text(text):\n",
    "    if not isinstance(text, str):\n",
    "        return [] \n",
    "    \n",
    "    word_tokens = nltk.word_tokenize(text.lower())\n",
    "    \n",
    "    tokens_nets = [\n",
    "        stemmer.stem(word) \n",
    "        for word in word_tokens \n",
    "        if word not in stop_words and word.isalnum() \n",
    "    ]\n",
    "    \n",
    "    return tokens_nets\n",
    "\n",
    "# 2. preprocess_keyword: to preprocess text for keyword fields (Fielded Index)\n",
    "def preprocess_keyword(text):\n",
    "    if not isinstance(text, str):\n",
    "        return None\n",
    "    \n",
    "    text = text.lower().strip()\n",
    "    if not text:\n",
    "        return None\n",
    "        \n",
    "    text = re.sub(r'\\s+', '_', text) \n",
    "    text_net = ''.join(char for char in text if char.isalnum() or char == '_')\n",
    "\n",
    "    return text_net\n",
    "\n",
    "# 3. process_product_details: to process product_details list of dicts into text for All Text and keyword fields for Fielded Index\n",
    "def process_product_details(details_list):\n",
    "    text_for_all_text_list = []\n",
    "    keyword_fields_dict = {}\n",
    "    if not isinstance(details_list, list):\n",
    "        return '', keyword_fields_dict\n",
    "    for item_dict in details_list:\n",
    "        if isinstance(item_dict, dict):\n",
    "            for key, value in item_dict.items():\n",
    "                if isinstance(value, str):\n",
    "                    # 1. Recall fields per al Canal 1 (All Text)\n",
    "                    text_for_all_text_list.append(key)\n",
    "                    text_for_all_text_list.append(value)\n",
    "                    \n",
    "                    # 2. Precision fields per al Canal 2 (Fielded Index)\n",
    "                    kw_key_name = f\"detail_{preprocess_keyword(key)}\"\n",
    "                    kw_value = preprocess_keyword(value) \n",
    "                    if kw_key_name and kw_value:\n",
    "                        keyword_fields_dict[kw_key_name] = kw_value\n",
    "    \n",
    "    return ' '.join(text_for_all_text_list), keyword_fields_dict"
   ]
  },
  {
   "cell_type": "code",
   "execution_count": 76,
   "id": "d2dab0f0",
   "metadata": {},
   "outputs": [],
   "source": [
    "# Hybrid architecture implementation\n",
    "products_cleaned['brand_kw'] = products['brand'].apply(preprocess_keyword)\n",
    "products_cleaned['category_kw'] = products['category'].apply(preprocess_keyword)\n",
    "products_cleaned['sub_category_kw'] = products['sub_category'].apply(preprocess_keyword)\n",
    "products_cleaned['seller_kw'] = products['seller'].apply(preprocess_keyword)\n",
    "\n",
    "temp_df = products['product_details'].apply(lambda x: pd.Series(process_product_details(x)))\n",
    "temp_df.columns = ['details_text_chunk', 'details_kw_dict']\n",
    "details_kw_df = temp_df['details_kw_dict'].apply(pd.Series)\n",
    "products_cleaned = pd.concat([products_cleaned, details_kw_df], axis=1)\n",
    "\n",
    "# Apply preprocess_full_text to create 'all_text' field\n",
    "title_cleaned_tokens = products['title'].apply(preprocess_full_text)\n",
    "description_cleaned_tokens = products['description'].apply(preprocess_full_text)\n",
    "brand_cleaned_tokens = products['brand'].apply(preprocess_full_text)\n",
    "category_cleaned_tokens = products['category'].apply(preprocess_full_text)\n",
    "sub_category_cleaned_tokens = products['sub_category'].apply(preprocess_full_text)\n",
    "seller_cleaned_tokens = products['seller'].apply(preprocess_full_text)\n",
    "details_cleaned_tokens = temp_df['details_text_chunk'].apply(preprocess_full_text)\n",
    "\n",
    "# Combine all tokens into 'all_text' field\n",
    "products_cleaned['all_text'] = (\n",
    "    title_cleaned_tokens +\n",
    "    description_cleaned_tokens +\n",
    "    brand_cleaned_tokens +\n",
    "    category_cleaned_tokens +\n",
    "    sub_category_cleaned_tokens +\n",
    "    seller_cleaned_tokens +\n",
    "    details_cleaned_tokens\n",
    ")"
   ]
  },
  {
   "cell_type": "code",
   "execution_count": 77,
   "id": "c2ac7d84",
   "metadata": {},
   "outputs": [
    {
     "name": "stdout",
     "output_type": "stream",
     "text": [
      "\n",
      "--- Verificació del Resultat Final ---\n"
     ]
    },
    {
     "data": {
      "text/html": [
       "<div>\n",
       "<style scoped>\n",
       "    .dataframe tbody tr th:only-of-type {\n",
       "        vertical-align: middle;\n",
       "    }\n",
       "\n",
       "    .dataframe tbody tr th {\n",
       "        vertical-align: top;\n",
       "    }\n",
       "\n",
       "    .dataframe thead th {\n",
       "        text-align: right;\n",
       "    }\n",
       "</style>\n",
       "<table border=\"1\" class=\"dataframe\">\n",
       "  <thead>\n",
       "    <tr style=\"text-align: right;\">\n",
       "      <th></th>\n",
       "      <th>pid</th>\n",
       "      <th>all_text</th>\n",
       "      <th>brand_kw</th>\n",
       "      <th>category_kw</th>\n",
       "      <th>detail_color</th>\n",
       "      <th>detail_fabric</th>\n",
       "    </tr>\n",
       "  </thead>\n",
       "  <tbody>\n",
       "    <tr>\n",
       "      <th>0</th>\n",
       "      <td>TKPFCZ9EA7H5FYZH</td>\n",
       "      <td>[solid, women, multicolor, track, pant, yorker...</td>\n",
       "      <td>york</td>\n",
       "      <td>clothing_and_accessories</td>\n",
       "      <td>multicolor</td>\n",
       "      <td>cotton_blend</td>\n",
       "    </tr>\n",
       "    <tr>\n",
       "      <th>1</th>\n",
       "      <td>TKPFCZ9EJZV2UVRZ</td>\n",
       "      <td>[solid, men, blue, track, pant, yorker, trackp...</td>\n",
       "      <td>york</td>\n",
       "      <td>clothing_and_accessories</td>\n",
       "      <td>blue</td>\n",
       "      <td>cotton_blend</td>\n",
       "    </tr>\n",
       "    <tr>\n",
       "      <th>2</th>\n",
       "      <td>TKPFCZ9EHFCY5Z4Y</td>\n",
       "      <td>[solid, men, multicolor, track, pant, yorker, ...</td>\n",
       "      <td>york</td>\n",
       "      <td>clothing_and_accessories</td>\n",
       "      <td>multicolor</td>\n",
       "      <td>cotton_blend</td>\n",
       "    </tr>\n",
       "    <tr>\n",
       "      <th>3</th>\n",
       "      <td>TKPFCZ9ESZZ7YWEF</td>\n",
       "      <td>[solid, women, multicolor, track, pant, yorker...</td>\n",
       "      <td>york</td>\n",
       "      <td>clothing_and_accessories</td>\n",
       "      <td>multicolor</td>\n",
       "      <td>cotton_blend</td>\n",
       "    </tr>\n",
       "    <tr>\n",
       "      <th>4</th>\n",
       "      <td>TKPFCZ9EVXKBSUD7</td>\n",
       "      <td>[solid, women, brown, grey, track, pant, yorke...</td>\n",
       "      <td>york</td>\n",
       "      <td>clothing_and_accessories</td>\n",
       "      <td>brown_grey</td>\n",
       "      <td>cotton_blend</td>\n",
       "    </tr>\n",
       "  </tbody>\n",
       "</table>\n",
       "</div>"
      ],
      "text/plain": [
       "                pid                                           all_text  \\\n",
       "0  TKPFCZ9EA7H5FYZH  [solid, women, multicolor, track, pant, yorker...   \n",
       "1  TKPFCZ9EJZV2UVRZ  [solid, men, blue, track, pant, yorker, trackp...   \n",
       "2  TKPFCZ9EHFCY5Z4Y  [solid, men, multicolor, track, pant, yorker, ...   \n",
       "3  TKPFCZ9ESZZ7YWEF  [solid, women, multicolor, track, pant, yorker...   \n",
       "4  TKPFCZ9EVXKBSUD7  [solid, women, brown, grey, track, pant, yorke...   \n",
       "\n",
       "  brand_kw               category_kw detail_color detail_fabric  \n",
       "0     york  clothing_and_accessories   multicolor  cotton_blend  \n",
       "1     york  clothing_and_accessories         blue  cotton_blend  \n",
       "2     york  clothing_and_accessories   multicolor  cotton_blend  \n",
       "3     york  clothing_and_accessories   multicolor  cotton_blend  \n",
       "4     york  clothing_and_accessories   brown_grey  cotton_blend  "
      ]
     },
     "metadata": {},
     "output_type": "display_data"
    }
   ],
   "source": [
    "# Test final verification\n",
    "print(\"\\n--- Verificació del Resultat Final ---\")\n",
    "cols_to_show = ['pid', 'all_text', 'brand_kw', 'category_kw']\n",
    "if 'detail_color' in products_cleaned.columns:\n",
    "    cols_to_show.append('detail_color')\n",
    "if 'detail_fabric' in products_cleaned.columns:\n",
    "    cols_to_show.append('detail_fabric')\n",
    "\n",
    "display(products_cleaned[cols_to_show].head())"
   ]
  },
  {
   "cell_type": "markdown",
   "id": "5d9bd35c",
   "metadata": {},
   "source": [
    "## 1.3. Handle of out_of_stock, selling_price, discount, actual_price, and average_rating."
   ]
  },
  {
   "cell_type": "markdown",
   "id": "cfa3824b",
   "metadata": {},
   "source": [
    "**Decide how these should be handled during pre-processing to use in further search.**\n"
   ]
  },
  {
   "cell_type": "markdown",
   "id": "2a7d4198",
   "metadata": {},
   "source": [
    "**Should they be indexed as textual terms?**"
   ]
  },
  {
   "cell_type": "code",
   "execution_count": null,
   "id": "4e7c2dac",
   "metadata": {},
   "outputs": [],
   "source": []
  },
  {
   "cell_type": "markdown",
   "id": "309ae6e8",
   "metadata": {},
   "source": [
    "# PART 2: Exploratory Data Analysis"
   ]
  }
 ],
 "metadata": {
  "kernelspec": {
   "display_name": "base",
   "language": "python",
   "name": "python3"
  },
  "language_info": {
   "codemirror_mode": {
    "name": "ipython",
    "version": 3
   },
   "file_extension": ".py",
   "mimetype": "text/x-python",
   "name": "python",
   "nbconvert_exporter": "python",
   "pygments_lexer": "ipython3",
   "version": "3.13.5"
  }
 },
 "nbformat": 4,
 "nbformat_minor": 5
}
